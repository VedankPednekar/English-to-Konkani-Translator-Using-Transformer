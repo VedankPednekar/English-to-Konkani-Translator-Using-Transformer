{
  "cells": [
    {
      "cell_type": "code",
      "execution_count": null,
      "metadata": {
        "id": "1moTk6pBMaMP"
      },
      "outputs": [],
      "source": [
        "import sys\n",
        "import os\n",
        "from dotenv import load_dotenv\n",
        "\n",
        "default_config_file = os.path.abspath(\"/mnt/c/Users/Vedank/Documents/Project/Transformer/config.env\")\n",
        "config_file = default_config_file"
      ]
    },
    {
      "cell_type": "code",
      "execution_count": 2,
      "metadata": {
        "id": "6-i0LbivMrp0"
      },
      "outputs": [
        {
          "name": "stderr",
          "output_type": "stream",
          "text": [
            "2025-04-07 04:23:07.215717: I tensorflow/core/util/port.cc:153] oneDNN custom operations are on. You may see slightly different numerical results due to floating-point round-off errors from different computation orders. To turn them off, set the environment variable `TF_ENABLE_ONEDNN_OPTS=0`.\n",
            "2025-04-07 04:23:07.392312: E external/local_xla/xla/stream_executor/cuda/cuda_fft.cc:477] Unable to register cuFFT factory: Attempting to register factory for plugin cuFFT when one has already been registered\n",
            "WARNING: All log messages before absl::InitializeLog() is called are written to STDERR\n",
            "E0000 00:00:1743999787.463566     637 cuda_dnn.cc:8310] Unable to register cuDNN factory: Attempting to register factory for plugin cuDNN when one has already been registered\n",
            "E0000 00:00:1743999787.483108     637 cuda_blas.cc:1418] Unable to register cuBLAS factory: Attempting to register factory for plugin cuBLAS when one has already been registered\n",
            "2025-04-07 04:23:07.652164: I tensorflow/core/platform/cpu_feature_guard.cc:210] This TensorFlow binary is optimized to use available CPU instructions in performance-critical operations.\n",
            "To enable the following instructions: AVX2 AVX_VNNI FMA, in other operations, rebuild TensorFlow with the appropriate compiler flags.\n"
          ]
        }
      ],
      "source": [
        "import numpy as np\n",
        "import matplotlib.pyplot as plt\n",
        "import tensorflow as tf\n",
        "import tensorflow_text\n",
        "import random\n",
        "import nltk.translate.bleu_score as bleu\n",
        "from tqdm import tqdm"
      ]
    },
    {
      "cell_type": "code",
      "execution_count": 3,
      "metadata": {},
      "outputs": [],
      "source": [
        "# from tensorflow.keras.mixed_precision import set_global_policy\n",
        "# set_global_policy('mixed_float16')"
      ]
    },
    {
      "cell_type": "code",
      "execution_count": 4,
      "metadata": {
        "colab": {
          "base_uri": "https://localhost:8080/"
        },
        "id": "18l2uKACM1UE",
        "outputId": "67cc5bd0-30e5-4ba5-e21d-9e7129421961"
      },
      "outputs": [
        {
          "name": "stdout",
          "output_type": "stream",
          "text": [
            "Configuration file: /mnt/c/Users/Sohum/Documents/Project/Transformer/config.env\n",
            "\n"
          ]
        }
      ],
      "source": [
        "print(f\"Configuration file: {config_file}\\n\")"
      ]
    },
    {
      "cell_type": "code",
      "execution_count": 5,
      "metadata": {
        "colab": {
          "base_uri": "https://localhost:8080/"
        },
        "id": "sRSrbdM3jn3k",
        "outputId": "a2aa50e6-97ba-496a-a443-70f9cec07084"
      },
      "outputs": [
        {
          "data": {
            "text/plain": [
              "True"
            ]
          },
          "execution_count": 5,
          "metadata": {},
          "output_type": "execute_result"
        }
      ],
      "source": [
        "load_dotenv(\"config.env\")"
      ]
    },
    {
      "cell_type": "code",
      "execution_count": 6,
      "metadata": {
        "id": "GnXpBvNPM4Dv"
      },
      "outputs": [],
      "source": [
        "MODEL_NAME = os.getenv('MODEL_NAME')\n",
        "path_to_target = os.path.abspath(os.environ['TARGET_DATA_PATH'])\n",
        "path_to_context = os.path.abspath(os.environ['CONTEXT_DATA_PATH'])\n",
        "model_dir = os.path.abspath(MODEL_NAME)"
      ]
    },
    {
      "cell_type": "code",
      "execution_count": 7,
      "metadata": {
        "id": "ydcLsutKM5yO"
      },
      "outputs": [],
      "source": [
        "os.environ['MODEL_PATH']=model_dir"
      ]
    },
    {
      "cell_type": "code",
      "execution_count": 8,
      "metadata": {
        "id": "yw8kEsTYM_Wg"
      },
      "outputs": [],
      "source": [
        "context_vocab_path=os.path.abspath(os.environ['CONTEXT_TOKEN_PATH'])\n",
        "target_vocab_path=os.path.abspath(os.environ['TARGET_TOKEN_PATH'])"
      ]
    },
    {
      "cell_type": "code",
      "execution_count": 9,
      "metadata": {
        "id": "LYNvyvEINA9Q"
      },
      "outputs": [
        {
          "name": "stdout",
          "output_type": "stream",
          "text": [
            "Model Name: TRANS_BASE_EK\n",
            "Context Dataset: /mnt/c/Users/Sohum/Documents/Transformer/column1.txt\n",
            "Target Dataset: /mnt/c/Users/Sohum/Documents/Transformer/column2.txt\n",
            "Context Vocab: /mnt/c/Users/Sohum/Documents/Transformer/column1.txt.vocab\n",
            "Target Vocab: /mnt/c/Users/Sohum/Documents/Transformer/column2.txt.vocab\n",
            "\n"
          ]
        }
      ],
      "source": [
        "print(\"Model Name:\",MODEL_NAME)\n",
        "print(\"Context Dataset:\",path_to_context)\n",
        "print(\"Target Dataset:\",path_to_target)\n",
        "print(\"Context Vocab:\",context_vocab_path)\n",
        "print(\"Target Vocab:\",target_vocab_path)\n",
        "print()"
      ]
    },
    {
      "cell_type": "code",
      "execution_count": 10,
      "metadata": {
        "id": "kmwYi_d_NCrl"
      },
      "outputs": [],
      "source": [
        "os.makedirs(model_dir,exist_ok=True)"
      ]
    },
    {
      "cell_type": "code",
      "execution_count": 11,
      "metadata": {
        "id": "3Jc4lh7iNFCv"
      },
      "outputs": [],
      "source": [
        "BATCH_SIZE = int(os.environ['BATCH_SIZE']) if 'BATCH_SIZE' in os.environ else 64\n",
        "MAX_TOKENS = int(os.environ['MAX_TOKENS']) if 'MAX_TOKENS' in os.environ else 128\n",
        "\n",
        "num_layers = int(os.environ['NUM_LAYERS']) if 'NUM_LAYERS' in os.environ else 4\n",
        "d_model = int(os.environ['D_MODEL']) if 'D_MODEL' in os.environ else 128\n",
        "dff = int(os.environ['DFF']) if 'DFF' in os.environ else 512\n",
        "num_heads = int(os.environ['NUM_HEADS']) if 'NUM_HEADS' in os.environ else 8\n",
        "dropout_rate = float(os.environ['DROPOUT_RATE']) if 'DROPOUT_RATE' in os.environ else 0.1"
      ]
    },
    {
      "cell_type": "code",
      "execution_count": 12,
      "metadata": {
        "id": "iCBsbJKINIZe"
      },
      "outputs": [
        {
          "name": "stdout",
          "output_type": "stream",
          "text": [
            "Model configurations\n",
            "\n",
            "Batch size: 32\n",
            "Maximum Token length: 64\n",
            "Number of layers (encoder and decoder): 6\n",
            "Dimensionality of the embeddings 256\n",
            "Internal dimensionality of the FeedForward layer: 1024\n",
            "Number of self-attention heads 4\n",
            "Dropout rate 0.2\n",
            "\n"
          ]
        }
      ],
      "source": [
        "print(\"Model configurations\\n\")\n",
        "print(\"Batch size:\",BATCH_SIZE)\n",
        "print(\"Maximum Token length:\",MAX_TOKENS)\n",
        "print(\"Number of layers (encoder and decoder):\",num_layers)\n",
        "print(\"Dimensionality of the embeddings\",d_model)\n",
        "print(\"Internal dimensionality of the FeedForward layer:\",dff)\n",
        "print(\"Number of self-attention heads\",num_heads)\n",
        "print(\"Dropout rate\",dropout_rate)\n",
        "print()"
      ]
    },
    {
      "cell_type": "code",
      "execution_count": 13,
      "metadata": {
        "id": "aGSHcUW5NKrw"
      },
      "outputs": [],
      "source": [
        "epochs = int(os.environ['epochs']) if 'epochs' in os.environ and int(os.environ['epochs']) >=1 else 10\n",
        "save_freq = int(os.environ['save_freq']) if 'save_freq' in os.environ and int(os.environ['save_freq']) >1 else 'epoch'"
      ]
    },
    {
      "cell_type": "code",
      "execution_count": 14,
      "metadata": {
        "id": "LglwYe9SNM4E"
      },
      "outputs": [],
      "source": [
        "save_weights_only = True\n",
        "save_best_only = False if os.environ.get(\"save_best_only\") in ['False','false','FALSE'] else True"
      ]
    },
    {
      "cell_type": "code",
      "execution_count": 15,
      "metadata": {
        "id": "RwjMThRANQiv"
      },
      "outputs": [
        {
          "name": "stdout",
          "output_type": "stream",
          "text": [
            "Training Parameters\n",
            "\n",
            "Epochs: 2\n",
            "save_weights_only: True\n",
            "save_best_only: True\n",
            "save_freq: epoch\n",
            "\n"
          ]
        }
      ],
      "source": [
        "print(\"Training Parameters\\n\")\n",
        "print(\"Epochs:\",epochs)\n",
        "print(\"save_weights_only:\",save_weights_only)\n",
        "print(\"save_best_only:\",save_best_only)\n",
        "print(\"save_freq:\",save_freq)\n",
        "print()"
      ]
    },
    {
      "cell_type": "code",
      "execution_count": 16,
      "metadata": {
        "id": "rH-QxZCiNTSq"
      },
      "outputs": [],
      "source": [
        "# Define a callback to save checkpoints\n",
        "if save_best_only == False:\n",
        "  if save_weights_only == True:\n",
        "    checkpoint_filepath = os.path.join(model_dir,'checkpoints/weights.{epoch:02d}-{val_loss:.4f}.h5')\n",
        "  else:\n",
        "    checkpoint_filepath = os.path.join(model_dir,'checkpoints/model.{epoch:02d}-{val_loss:.4f}.h5')\n",
        "elif save_weights_only == False:\n",
        "  checkpoint_filepath = os.path.join(model_dir,'checkpoints/best_model.h5')\n",
        "else:\n",
        "  checkpoint_filepath = os.path.join(model_dir,'checkpoints/best_model.weights.h5')"
      ]
    },
    {
      "cell_type": "code",
      "execution_count": 17,
      "metadata": {
        "id": "f94mzXa-NXvk"
      },
      "outputs": [],
      "source": [
        "os.makedirs(os.path.join(model_dir,'checkpoints'), exist_ok=True)"
      ]
    },
    {
      "cell_type": "code",
      "execution_count": 18,
      "metadata": {
        "id": "YkLI0UF3Nbcn"
      },
      "outputs": [
        {
          "name": "stdout",
          "output_type": "stream",
          "text": [
            "Checkpoint path: /mnt/c/Users/Sohum/Documents/Transformer/TRANS_BASE_EK/checkpoints/best_model.weights.h5\n",
            "\n"
          ]
        }
      ],
      "source": [
        "print(\"Checkpoint path:\",checkpoint_filepath)\n",
        "print()"
      ]
    },
    {
      "cell_type": "code",
      "execution_count": 19,
      "metadata": {
        "id": "kBBoIKd5NcCc"
      },
      "outputs": [
        {
          "name": "stdout",
          "output_type": "stream",
          "text": [
            "Pretrained weights: /mnt/c/Users/Sohum/Documents/Transformer/TRANS_BASE_EK/checkpoints/checkpoint.weights.h5\n",
            "\n"
          ]
        }
      ],
      "source": [
        "pretrained_weights = os.path.abspath(os.environ['WEIGHTS_PATH']) if 'WEIGHTS_PATH' in os.environ and os.environ['WEIGHTS_PATH'].lower() not in ['none','n',''] else None\n",
        "print(\"Pretrained weights:\",pretrained_weights)\n",
        "print()"
      ]
    },
    {
      "cell_type": "code",
      "execution_count": 20,
      "metadata": {
        "id": "IukF2vfiNe0N"
      },
      "outputs": [],
      "source": [
        "#load corpus from text file into a numpy list\n",
        "def load_data(path):\n",
        "\n",
        "    with open(path, encoding='utf-8') as file:\n",
        "        lines = file.readlines()\n",
        "\n",
        "        len_data=len(lines)\n",
        "        context = np.empty(shape=len_data,dtype=object)\n",
        "        i=0\n",
        "        for line in lines:\n",
        "            context[i] = line.strip()\n",
        "            i+=1\n",
        "    del lines\n",
        "    return context"
      ]
    },
    {
      "cell_type": "code",
      "execution_count": 21,
      "metadata": {
        "id": "aGPD4rzKNugz"
      },
      "outputs": [],
      "source": [
        "#splits corpus into 2 parts of specified ratio\n",
        "def split_corpus(context_full_raw,target_full_raw,ratio):\n",
        "  is_train_val = np.random.uniform(size=(len(target_full_raw),)) < ratio\n",
        "\n",
        "  context_test = context_full_raw[~is_train_val]\n",
        "  target_test = target_full_raw[~is_train_val]\n",
        "  context_data = context_full_raw[is_train_val]\n",
        "  target_data = target_full_raw[is_train_val]\n",
        "\n",
        "  NUM_SAMPLES = len(context_data)\n",
        "  NUM_SAMPLES_0 = len(context_test)\n",
        "\n",
        "  return context_data,target_data,context_test,target_test,NUM_SAMPLES,NUM_SAMPLES_0"
      ]
    },
    {
      "cell_type": "code",
      "execution_count": 22,
      "metadata": {
        "id": "Nd2245HSNvTt"
      },
      "outputs": [],
      "source": [
        "#save test/train data to file\n",
        "def save_corpus_to_file(model_dir,source_filename,target_filename,context,target):\n",
        "  with open(os.path.join(model_dir,source_filename),'w',encoding='utf-8') as src:\n",
        "      for src_line in context.tolist():\n",
        "        src.write(src_line+'\\n')\n",
        "\n",
        "  with open(os.path.join(model_dir,target_filename),'w',encoding='utf-8') as trg:\n",
        "      for trg_line in target.tolist():\n",
        "        trg.write(trg_line+'\\n')\n",
        "  print(os.listdir(model_dir))"
      ]
    },
    {
      "cell_type": "code",
      "execution_count": 23,
      "metadata": {
        "id": "9xuBURIKNxGv"
      },
      "outputs": [],
      "source": [
        "#shuffle dataset\n",
        "def shuffle_corpus(context,target):\n",
        "\n",
        "  zipped = list(zip(context, target))\n",
        "  random.shuffle(zipped)\n",
        "  context,target = list(zip(*zipped))\n",
        "\n",
        "  return np.array(list(context)),np.array(list(target))"
      ]
    },
    {
      "cell_type": "code",
      "execution_count": 24,
      "metadata": {
        "id": "P6D_SF-nNyvg"
      },
      "outputs": [],
      "source": [
        "target_full_raw = load_data(path_to_target)\n",
        "context_full_raw = load_data(path_to_context)\n"
      ]
    },
    {
      "cell_type": "code",
      "execution_count": 25,
      "metadata": {
        "id": "vBaW1jmHN2J7"
      },
      "outputs": [
        {
          "name": "stdout",
          "output_type": "stream",
          "text": [
            "length test: 20204\n"
          ]
        }
      ],
      "source": [
        "#split corpus to train and test\n",
        "context_data,target_data,context_test,target_test,num_train_val_samples,num_test_samples = split_corpus(context_full_raw,target_full_raw,0.85)\n",
        "print(\"length test:\",num_test_samples)"
      ]
    },
    {
      "cell_type": "code",
      "execution_count": 26,
      "metadata": {
        "id": "cbXgDNeMN39V"
      },
      "outputs": [
        {
          "name": "stdout",
          "output_type": "stream",
          "text": [
            "length train: 97367\n",
            "length validation: 17338\n",
            "Context train[:5]\n",
            " ['Give three tips for staying healthy.'\n",
            " 'What are the three primary colors?' 'Describe the structure of an atom.'\n",
            " 'How can we reduce air pollution?'\n",
            " 'Write a concise summary of the following: \"Commodore 64 (commonly known as the C64 or CBM 64) was manufactured by Commodore Business Machine (CBM) in August 1982 with a starting price of $595. It was an 8-bit home computer with remarkable market success. Between 1983-1986, C64 sales amounted to about 17 million units sold, making them the best-selling single personal computer model of all time in 1983-1986. Additionally, the Commodore 64 dominated the market with between 30% and 40% share and 2 million units sold per year, outselling the IBM PC clones, Apple Computers, and Atari computers. Adding to their success, Sam Tramiel (former Atari president), during an interview in 1989, said they were building 400,000 C64s a month for a couple of years. \"']\n",
            "Target train[:5]\n",
            " ['निरोगी रावपा खातीर तीन सुचोवण्यो दिवप.' 'तीन प्राथमीक रंग खंयचे?'\n",
            " 'अणूचे रचणुकेचें वर्णन करप.' 'वायू प्रदुशण आमी कशें उणें करूंक शकतात?'\n",
            " 'सकयल दिल्ल्या गजालींचो संक्षिप्त सारांश बरोवप: \"कमोडोर 64 (सादारणपणान सी64 वा सीबीएम 64 ह्या नांवान वळखतात) हें कमोडोर बिझनेस मशीनान (सीबीएम) ऑगस्ट 1982 त 595 डॉलर सुरवातीक मोल दिवन तयार केल्लें. बाजारांत उल्लेखनीय यश मेळोवपी हो 8 बिट घरगुती संगणक आशिल्लो. 1983-86 ह्या काळांत सी64 विक्रीची विक्री सुमार 1.7 कोटी युनिट जाली, ताका लागून 1983-1986 वर्सा तें आतां मेरेनचें सगळ्यांत चड विकपी एकल वैयक्तीक संगणक मॉडेल जालें. ते भायर, आयबीएम पीसी क्लोन, ऍपल कॉम्प्युटर आनी अटारी संगणक हांचे परस चड विक्री करून कमोडोर 64 बाजारांत 30% ते 40% वांटो आनी 20 लाख युनिट विकताले. तांच्या येसांत भर घालतना सॅम ट्रामियल (आदलो अटारी अध्यक्ष) हाणें 1989 वर्सा एके मुलाखती वेळार दोन वर्सां खातीर म्हयन्याक 400,000 सी64 बांदतात अशें सांगलें. \"']\n",
            "\n"
          ]
        }
      ],
      "source": [
        "#split train data to train and validation\n",
        "context_train,target_train,context_val,target_val,num_train_samples,num_val_samples = split_corpus(context_data,target_data,0.85)\n",
        "print(\"length train:\",num_train_samples)\n",
        "print(\"length validation:\",num_val_samples)\n",
        "\n",
        "print(\"Context train[:5]\\n\",context_train[:5])\n",
        "print(\"Target train[:5]\\n\",target_train[:5])\n",
        "print()\n"
      ]
    },
    {
      "cell_type": "code",
      "execution_count": 27,
      "metadata": {
        "id": "cZvkrhAHN6fC"
      },
      "outputs": [
        {
          "name": "stdout",
          "output_type": "stream",
          "text": [
            "['checkpoints', 'src.test.txt', 'src.val.txt', 'trg.test.txt', 'trg.val.txt']\n",
            "['checkpoints', 'src.test.txt', 'src.val.txt', 'trg.test.txt', 'trg.val.txt']\n"
          ]
        }
      ],
      "source": [
        "#save validation data to file\n",
        "save_corpus_to_file(model_dir,\"src.val.txt\",\"trg.val.txt\",context_val,target_val)\n",
        "#save test data to file\n",
        "save_corpus_to_file(model_dir,\"src.test.txt\",\"trg.test.txt\",context_test,target_test)"
      ]
    },
    {
      "cell_type": "code",
      "execution_count": 28,
      "metadata": {
        "id": "Zqu02-42N9JA"
      },
      "outputs": [
        {
          "name": "stderr",
          "output_type": "stream",
          "text": [
            "I0000 00:00:1743999802.932554     637 gpu_device.cc:2022] Created device /job:localhost/replica:0/task:0/device:GPU:0 with 5563 MB memory:  -> device: 0, name: NVIDIA GeForce RTX 4060 Laptop GPU, pci bus id: 0000:01:00.0, compute capability: 8.9\n"
          ]
        }
      ],
      "source": [
        "BUFFER_SIZE = num_train_samples\n",
        "\n",
        "train_examples = (\n",
        "    tf.data.Dataset\n",
        "    .from_tensor_slices((context_train, target_train))\n",
        "    .shuffle(BUFFER_SIZE)\n",
        "    )\n",
        "val_examples = (\n",
        "    tf.data.Dataset\n",
        "    .from_tensor_slices((context_val, target_val))\n",
        "    .shuffle(BUFFER_SIZE)\n",
        "    )"
      ]
    },
    {
      "cell_type": "code",
      "execution_count": 29,
      "metadata": {
        "id": "aeo_lMwbOKgg"
      },
      "outputs": [],
      "source": [
        "#convert context and target dataset to tensor\n",
        "full_context = tf.data.Dataset.from_tensor_slices(context_full_raw)\n",
        "full_target = tf.data.Dataset.from_tensor_slices(target_full_raw)"
      ]
    },
    {
      "cell_type": "code",
      "execution_count": 30,
      "metadata": {
        "id": "P1hw7Ae8OLI5"
      },
      "outputs": [],
      "source": [
        "from tensorflow_text.tools.wordpiece_vocab import bert_vocab_from_dataset as bert_vocab\n",
        "\n",
        "bert_tokenizer_params=dict(lower_case=False)\n",
        "reserved_tokens=[\"[PAD]\", \"[UNK]\", \"[START]\", \"[END]\"]\n",
        "\n",
        "bert_vocab_args = dict(\n",
        "    # The target vocabulary size\n",
        "    vocab_size = 100000,\n",
        "    # Reserved tokens that must be included in the vocabulary\n",
        "    reserved_tokens=reserved_tokens,\n",
        "    # Arguments for `text.BertTokenizer`\n",
        "    bert_tokenizer_params=bert_tokenizer_params,\n",
        "    # Arguments for `wordpiece_vocab.wordpiece_tokenizer_learner_lib.learn`\n",
        "    learn_params={},\n",
        ")"
      ]
    },
    {
      "cell_type": "code",
      "execution_count": 31,
      "metadata": {
        "id": "UZRyyqf9OPR0"
      },
      "outputs": [],
      "source": [
        "#open the english and konkani vocabulary\n",
        "context_vocab = load_data(context_vocab_path)\n",
        "target_vocab = load_data(target_vocab_path)\n",
        "context_vocab_size = len(context_vocab)\n",
        "target_vocab_size = len(target_vocab)"
      ]
    },
    {
      "cell_type": "code",
      "execution_count": 32,
      "metadata": {
        "id": "vXJRaksjOUdX"
      },
      "outputs": [
        {
          "name": "stdout",
          "output_type": "stream",
          "text": [
            "Length of Context vocab: 25193\n",
            "Examples:\n",
            "['[PAD]' '[UNK]' '[START]' '[END]' '!' '\"' '#' '$' '%' '&']\n",
            "['½' '×' 'á' 'ç' 'é' 'í' 'ï' 'ö' '÷' 'ā']\n",
            "\n",
            "length of Target vocab: 33593\n",
            "Examples:\n",
            "['[PAD]' '[UNK]' '[START]' '[END]' '!' '\"' '#' '$' '%' '&']\n",
            "['÷' '˚' 'ँ' 'ं' 'ः' 'अ' 'आ' 'इ' 'ई' 'उ']\n",
            "\n"
          ]
        }
      ],
      "source": [
        "print(\"Length of Context vocab:\",context_vocab_size)\n",
        "print(\"Examples:\")\n",
        "print(context_vocab[:10])\n",
        "print(context_vocab[100:110])\n",
        "print()\n",
        "print(\"length of Target vocab:\",target_vocab_size)\n",
        "print(\"Examples:\")\n",
        "print(target_vocab[:10])\n",
        "print(target_vocab[100:110])\n",
        "print()"
      ]
    },
    {
      "cell_type": "code",
      "execution_count": 33,
      "metadata": {
        "id": "Dnlu6poxOWmN"
      },
      "outputs": [],
      "source": [
        "context_tokenizer = tensorflow_text.BertTokenizer(context_vocab_path, **bert_tokenizer_params)\n",
        "target_tokenizer = tensorflow_text.BertTokenizer(target_vocab_path, **bert_tokenizer_params)"
      ]
    },
    {
      "cell_type": "code",
      "execution_count": 34,
      "metadata": {
        "id": "8Pe-QO-POTOn"
      },
      "outputs": [],
      "source": [
        "START = tf.argmax(tf.constant(reserved_tokens) == \"[START]\")\n",
        "END = tf.argmax(tf.constant(reserved_tokens) == \"[END]\")\n"
      ]
    },
    {
      "cell_type": "code",
      "execution_count": 35,
      "metadata": {
        "id": "L1rp-M_iOajb"
      },
      "outputs": [],
      "source": [
        "def add_start_end(ragged):\n",
        "    count = ragged.bounding_shape()[0]\n",
        "    starts = tf.fill([count,1], START)\n",
        "    ends = tf.fill([count,1], END)\n",
        "    return tf.concat([starts, ragged, ends], axis=1)"
      ]
    },
    {
      "cell_type": "code",
      "execution_count": 36,
      "metadata": {
        "id": "QNo8_Z3LOabr"
      },
      "outputs": [],
      "source": [
        "def tokenize(inputs,tokenizer):\n",
        "    token_batch = tokenizer.tokenize(inputs)\n",
        "    token_batch = token_batch.merge_dims(-2,-1)\n",
        "    return add_start_end(token_batch)"
      ]
    },
    {
      "cell_type": "code",
      "execution_count": 37,
      "metadata": {
        "id": "koQMlrWIOaUw"
      },
      "outputs": [],
      "source": [
        "def prepare_batch(ct, tg):\n",
        "\n",
        "    ct = tokenize(ct,context_tokenizer)\n",
        "    ct = ct[:, :MAX_TOKENS]    # Trim to MAX_TOKENS.\n",
        "    ct = ct.to_tensor()  # Convert to 0-padded dense Tensor\n",
        "\n",
        "    tg = tokenize(tg,target_tokenizer)\n",
        "    tg = tg[:, :(MAX_TOKENS+1)]\n",
        "    tg_inputs = tg[:, :-1].to_tensor()  # Drop the [END] tokens\n",
        "    tg_labels = tg[:, 1:].to_tensor()   # Drop the [START] tokens\n",
        "\n",
        "    return (ct, tg_inputs), tg_labels"
      ]
    },
    {
      "cell_type": "code",
      "execution_count": 38,
      "metadata": {
        "id": "t_OLV-KCOaKa"
      },
      "outputs": [],
      "source": [
        "def make_batches(ds):\n",
        "  return (\n",
        "      ds\n",
        "      .shuffle(BUFFER_SIZE)\n",
        "      .batch(BATCH_SIZE)\n",
        "      .map(prepare_batch, tf.data.AUTOTUNE)\n",
        "      .prefetch(buffer_size=tf.data.AUTOTUNE))"
      ]
    },
    {
      "cell_type": "code",
      "execution_count": 39,
      "metadata": {
        "id": "nP41lOlYOjIZ"
      },
      "outputs": [
        {
          "name": "stderr",
          "output_type": "stream",
          "text": [
            "2025-04-07 04:23:25.653210: E tensorflow/core/util/util.cc:131] oneDNN supports DT_INT64 only on platforms with AVX-512. Falling back to the default Eigen-based implementation if present.\n"
          ]
        },
        {
          "name": "stdout",
          "output_type": "stream",
          "text": [
            "Shape Target: (32, 64)\n",
            "Shape Target labels: (32, 64)\n"
          ]
        }
      ],
      "source": [
        "\n",
        "# Create training and validation set batches.\n",
        "train_batches = make_batches(train_examples)\n",
        "val_batches = make_batches(val_examples)\n",
        "\n",
        "for (ct, tg), tg_labels in train_batches.take(1):\n",
        "  break\n",
        "\n",
        "print(\"Shape Target:\",tg.shape)\n",
        "print(\"Shape Target labels:\",tg_labels.shape)"
      ]
    },
    {
      "cell_type": "code",
      "execution_count": 40,
      "metadata": {
        "id": "dNbioGsjOmE0"
      },
      "outputs": [
        {
          "name": "stdout",
          "output_type": "stream",
          "text": [
            "\n",
            "Defining the components:\n"
          ]
        }
      ],
      "source": [
        "print(\"\\nDefining the components:\")\n",
        "\n",
        "def positional_encoding(length, depth):\n",
        "  depth = depth/2\n",
        "\n",
        "  positions = np.arange(length)[:, np.newaxis]     # (seq, 1)\n",
        "  depths = np.arange(depth)[np.newaxis, :]/depth   # (1, depth)\n",
        "\n",
        "  angle_rates = 1 / (10000**depths)         # (1, depth)\n",
        "  angle_rads = positions * angle_rates      # (pos, depth)\n",
        "\n",
        "  pos_encoding = np.concatenate(\n",
        "      [np.sin(angle_rads), np.cos(angle_rads)],\n",
        "      axis=-1)\n",
        "\n",
        "  return tf.cast(pos_encoding, dtype=tf.float32)"
      ]
    },
    {
      "cell_type": "code",
      "execution_count": 41,
      "metadata": {
        "id": "M5BfB8gbOp7w"
      },
      "outputs": [
        {
          "name": "stdout",
          "output_type": "stream",
          "text": [
            "Shape Positional encoding: (1024, 256)\n"
          ]
        }
      ],
      "source": [
        "pos_encoding = positional_encoding(length=1024, depth=256)\n",
        "\n",
        "# Check the shape.\n",
        "print(\"Shape Positional encoding:\",pos_encoding.shape)\n"
      ]
    },
    {
      "cell_type": "code",
      "execution_count": 42,
      "metadata": {
        "id": "SYR8xeblOun8"
      },
      "outputs": [],
      "source": [
        "class PositionalEmbedding(tf.keras.layers.Layer):\n",
        "  def __init__(self, vocab_size, d_model):\n",
        "    super().__init__()\n",
        "    self.d_model = d_model\n",
        "    self.embedding = tf.keras.layers.Embedding(vocab_size, d_model, mask_zero=True)\n",
        "    self.pos_encoding = positional_encoding(length=2048, depth=d_model)\n",
        "\n",
        "  def compute_mask(self, *args, **kwargs):\n",
        "    return self.embedding.compute_mask(*args, **kwargs)\n",
        "\n",
        "  def call(self, x):\n",
        "    length = tf.shape(x)[1]\n",
        "    x = self.embedding(x)\n",
        "    # This factor sets the relative scale of the embedding and positonal_encoding.\n",
        "    x *= tf.math.sqrt(tf.cast(self.d_model, tf.float32))\n",
        "    x = x + self.pos_encoding[tf.newaxis, :length, :]\n",
        "    return x"
      ]
    },
    {
      "cell_type": "code",
      "execution_count": 43,
      "metadata": {
        "id": "sDfByXVmOyw4"
      },
      "outputs": [],
      "source": [
        "embed_context = PositionalEmbedding(vocab_size=context_vocab_size, d_model=512)\n",
        "embed_target = PositionalEmbedding(vocab_size=target_vocab_size, d_model=512)\n",
        "\n",
        "context_emb = embed_context(ct)\n",
        "target_emb = embed_target(tg)"
      ]
    },
    {
      "cell_type": "code",
      "execution_count": 44,
      "metadata": {
        "id": "yxyE8AeaO2Ey"
      },
      "outputs": [],
      "source": [
        "class BaseAttention(tf.keras.layers.Layer):\n",
        "  def __init__(self, **kwargs):\n",
        "    super().__init__()\n",
        "    self.mha = tf.keras.layers.MultiHeadAttention(**kwargs)\n",
        "    self.layernorm = tf.keras.layers.LayerNormalization()\n",
        "    self.add = tf.keras.layers.Add()"
      ]
    },
    {
      "cell_type": "code",
      "execution_count": 45,
      "metadata": {
        "id": "Q0POOROCO4Ol"
      },
      "outputs": [],
      "source": [
        "class CrossAttention(BaseAttention):\n",
        "  def call(self, x, context):\n",
        "    attn_output, attn_scores = self.mha(\n",
        "        query=x,\n",
        "        key=context,\n",
        "        value=context,\n",
        "        return_attention_scores=True)\n",
        "\n",
        "    # Cache the attention scores for plotting later.\n",
        "    self.last_attn_scores = attn_scores\n",
        "\n",
        "    x = self.add([x, attn_output])\n",
        "    x = self.layernorm(x)\n",
        "\n",
        "    return x"
      ]
    },
    {
      "cell_type": "code",
      "execution_count": 46,
      "metadata": {
        "id": "XfIfwSJHO5FB"
      },
      "outputs": [
        {
          "name": "stdout",
          "output_type": "stream",
          "text": [
            "Shape context embedding: (32, 64, 512)\n",
            "Target context embedding: (32, 64, 512)\n",
            "Shape sample CrossAttention: (32, 64, 512)\n"
          ]
        }
      ],
      "source": [
        "sample_ca = CrossAttention(num_heads=2, key_dim=512)\n",
        "\n",
        "print(\"Shape context embedding:\",context_emb.shape)\n",
        "print(\"Target context embedding:\",target_emb.shape)\n",
        "print(\"Shape sample CrossAttention:\",sample_ca(target_emb, context_emb).shape)\n"
      ]
    },
    {
      "cell_type": "code",
      "execution_count": 47,
      "metadata": {
        "id": "OzojzVUzO7Pl"
      },
      "outputs": [],
      "source": [
        "class GlobalSelfAttention(BaseAttention):\n",
        "  def call(self, x):\n",
        "    attn_output = self.mha(\n",
        "        query=x,\n",
        "        value=x,\n",
        "        key=x)\n",
        "    x = self.add([x, attn_output])\n",
        "    x = self.layernorm(x)\n",
        "    return x"
      ]
    },
    {
      "cell_type": "code",
      "execution_count": 48,
      "metadata": {
        "id": "vcB01c6UO9D4"
      },
      "outputs": [
        {
          "name": "stdout",
          "output_type": "stream",
          "text": [
            "Shape context embedding (32, 64, 512)\n",
            "Shape sample GlobalSelfAttention (32, 64, 512)\n"
          ]
        }
      ],
      "source": [
        "sample_gsa = GlobalSelfAttention(num_heads=2, key_dim=512)\n",
        "\n",
        "print(\"Shape context embedding\",context_emb.shape)\n",
        "print(\"Shape sample GlobalSelfAttention\",sample_gsa(context_emb).shape)\n"
      ]
    },
    {
      "cell_type": "code",
      "execution_count": 49,
      "metadata": {
        "id": "_xRASMhSO_7q"
      },
      "outputs": [],
      "source": [
        "class CausalSelfAttention(BaseAttention):\n",
        "  def call(self, x):\n",
        "    attn_output = self.mha(\n",
        "        query=x,\n",
        "        value=x,\n",
        "        key=x,\n",
        "        use_causal_mask = True)\n",
        "    x = self.add([x, attn_output])\n",
        "    x = self.layernorm(x)\n",
        "    return x"
      ]
    },
    {
      "cell_type": "code",
      "execution_count": 50,
      "metadata": {
        "id": "bUfs-ec2O_5B"
      },
      "outputs": [
        {
          "name": "stdout",
          "output_type": "stream",
          "text": [
            "Shape Traget Embedding: (32, 64, 512)\n",
            "Shape sample CausalSelfAttention: (32, 64, 512)\n"
          ]
        }
      ],
      "source": [
        "sample_csa = CausalSelfAttention(num_heads=2, key_dim=512)\n",
        "\n",
        "print(\"Shape Traget Embedding:\",target_emb.shape)\n",
        "print(\"Shape sample CausalSelfAttention:\",sample_csa(target_emb).shape)\n"
      ]
    },
    {
      "cell_type": "code",
      "execution_count": 51,
      "metadata": {
        "id": "mtdfiAl4O_2Z"
      },
      "outputs": [
        {
          "name": "stderr",
          "output_type": "stream",
          "text": [
            "/home/sohum12/miniconda3/envs/tf/lib/python3.9/site-packages/keras/src/layers/layer.py:938: UserWarning: Layer 'causal_self_attention' (of type CausalSelfAttention) was passed an input with a mask attached to it. However, this layer does not support masking and will therefore destroy the mask information. Downstream layers will not see the mask.\n",
            "  warnings.warn(\n"
          ]
        },
        {
          "data": {
            "text/plain": [
              "np.float32(0.00012660027)"
            ]
          },
          "execution_count": 51,
          "metadata": {},
          "output_type": "execute_result"
        }
      ],
      "source": [
        "out1 = sample_csa(embed_target(tg[:, :3]))\n",
        "out2 = sample_csa(embed_target(tg))[:, :3]\n",
        "tf.reduce_max(abs(out1 - out2)).numpy()"
      ]
    },
    {
      "cell_type": "code",
      "execution_count": 52,
      "metadata": {
        "id": "O4BA3ewWO_fm"
      },
      "outputs": [],
      "source": [
        "class FeedForward(tf.keras.layers.Layer):\n",
        "  def __init__(self, d_model, dff, dropout_rate=0.1):\n",
        "    super().__init__()\n",
        "    self.seq = tf.keras.Sequential([\n",
        "      tf.keras.layers.Dense(dff, activation='relu'),\n",
        "      tf.keras.layers.Dense(d_model),\n",
        "      tf.keras.layers.Dropout(dropout_rate)\n",
        "    ])\n",
        "    self.add = tf.keras.layers.Add()\n",
        "    self.layer_norm = tf.keras.layers.LayerNormalization()\n",
        "\n",
        "  def call(self, x):\n",
        "    x = self.add([x, self.seq(x)])\n",
        "    x = self.layer_norm(x)\n",
        "    return x"
      ]
    },
    {
      "cell_type": "code",
      "execution_count": 53,
      "metadata": {
        "id": "sZhii6x4PPWw"
      },
      "outputs": [
        {
          "name": "stdout",
          "output_type": "stream",
          "text": [
            "Shape Target Embedding: (32, 64, 512)\n",
            "Shape Sample FFN: (32, 64, 512)\n"
          ]
        }
      ],
      "source": [
        "sample_ffn = FeedForward(512, 2048)\n",
        "\n",
        "print(\"Shape Target Embedding:\",target_emb.shape)\n",
        "print(\"Shape Sample FFN:\",sample_ffn(target_emb).shape)"
      ]
    },
    {
      "cell_type": "code",
      "execution_count": 54,
      "metadata": {
        "id": "WvZ34uQePPUx"
      },
      "outputs": [],
      "source": [
        "class EncoderLayer(tf.keras.layers.Layer):\n",
        "  def __init__(self,*, d_model, num_heads, dff, dropout_rate=0.1):\n",
        "    super().__init__()\n",
        "\n",
        "    self.self_attention = GlobalSelfAttention(\n",
        "        num_heads=num_heads,\n",
        "        key_dim=d_model,\n",
        "        dropout=dropout_rate)\n",
        "\n",
        "    self.ffn = FeedForward(d_model, dff)\n",
        "\n",
        "  def call(self, x):\n",
        "    x = self.self_attention(x)\n",
        "    x = self.ffn(x)\n",
        "    return x"
      ]
    },
    {
      "cell_type": "code",
      "execution_count": 55,
      "metadata": {
        "id": "P-2BR70hPPSJ"
      },
      "outputs": [
        {
          "name": "stdout",
          "output_type": "stream",
          "text": [
            "Shape context Embedding: (32, 64, 512)\n",
            "Shape sample encoder layer: (32, 64, 512)\n"
          ]
        }
      ],
      "source": [
        "sample_encoder_layer = EncoderLayer(d_model=512, num_heads=8, dff=2048)\n",
        "\n",
        "print(\"Shape context Embedding:\",context_emb.shape)\n",
        "print(\"Shape sample encoder layer:\",sample_encoder_layer(context_emb).shape)\n"
      ]
    },
    {
      "cell_type": "code",
      "execution_count": 56,
      "metadata": {
        "id": "S7iToaaDPPM6"
      },
      "outputs": [],
      "source": [
        "class Encoder(tf.keras.layers.Layer):\n",
        "  def __init__(self, *, num_layers, d_model, num_heads,\n",
        "               dff, vocab_size, dropout_rate=0.1):\n",
        "    super().__init__()\n",
        "\n",
        "    self.d_model = d_model\n",
        "    self.num_layers = num_layers\n",
        "\n",
        "    self.pos_embedding = PositionalEmbedding(\n",
        "        vocab_size=vocab_size, d_model=d_model)\n",
        "\n",
        "    self.enc_layers = [\n",
        "        EncoderLayer(d_model=d_model,\n",
        "                     num_heads=num_heads,\n",
        "                     dff=dff,\n",
        "                     dropout_rate=dropout_rate)\n",
        "        for _ in range(num_layers)]\n",
        "    self.dropout = tf.keras.layers.Dropout(dropout_rate)\n",
        "\n",
        "  def call(self, x):\n",
        "    # `x` is token-IDs shape: (batch, seq_len)\n",
        "    x = self.pos_embedding(x)  # Shape `(batch_size, seq_len, d_model)`.\n",
        "\n",
        "    # Add dropout.\n",
        "    x = self.dropout(x)\n",
        "\n",
        "    for i in range(self.num_layers):\n",
        "      x = self.enc_layers[i](x)\n",
        "\n",
        "    return x  # Shape `(batch_size, seq_len, d_model)`."
      ]
    },
    {
      "cell_type": "code",
      "execution_count": 57,
      "metadata": {
        "id": "XOF0dTXEPPKR"
      },
      "outputs": [
        {
          "name": "stdout",
          "output_type": "stream",
          "text": [
            "Context shape (32, 64)\n",
            "Shape sample_encoder_output (32, 64, 256)\n"
          ]
        },
        {
          "name": "stderr",
          "output_type": "stream",
          "text": [
            "/home/sohum12/miniconda3/envs/tf/lib/python3.9/site-packages/keras/src/layers/layer.py:938: UserWarning: Layer 'global_self_attention_2' (of type GlobalSelfAttention) was passed an input with a mask attached to it. However, this layer does not support masking and will therefore destroy the mask information. Downstream layers will not see the mask.\n",
            "  warnings.warn(\n",
            "/home/sohum12/miniconda3/envs/tf/lib/python3.9/site-packages/keras/src/layers/layer.py:938: UserWarning: Layer 'encoder_layer_1' (of type EncoderLayer) was passed an input with a mask attached to it. However, this layer does not support masking and will therefore destroy the mask information. Downstream layers will not see the mask.\n",
            "  warnings.warn(\n"
          ]
        }
      ],
      "source": [
        "# Instantiate the encoder.\n",
        "sample_encoder = Encoder(num_layers=num_layers,\n",
        "                         d_model=d_model,\n",
        "                         num_heads=num_heads,\n",
        "                         dff=dff,\n",
        "                         vocab_size=context_vocab_size)\n",
        "\n",
        "sample_encoder_output = sample_encoder(ct, training=False)\n",
        "\n",
        "# Print the shape.\n",
        "print(\"Context shape\",ct.shape)\n",
        "print(\"Shape sample_encoder_output\",sample_encoder_output.shape)  # Shape `(batch_size, input_seq_len, d_model)`.\n"
      ]
    },
    {
      "cell_type": "code",
      "execution_count": 58,
      "metadata": {
        "id": "BlBXBhSwPfnV"
      },
      "outputs": [],
      "source": [
        "class DecoderLayer(tf.keras.layers.Layer):\n",
        "  def __init__(self,\n",
        "               *,\n",
        "               d_model,\n",
        "               num_heads,\n",
        "               dff,\n",
        "               dropout_rate=0.1):\n",
        "    super(DecoderLayer, self).__init__()\n",
        "\n",
        "    self.causal_self_attention = CausalSelfAttention(\n",
        "        num_heads=num_heads,\n",
        "        key_dim=d_model,\n",
        "        dropout=dropout_rate)\n",
        "\n",
        "    self.cross_attention = CrossAttention(\n",
        "        num_heads=num_heads,\n",
        "        key_dim=d_model,\n",
        "        dropout=dropout_rate)\n",
        "\n",
        "    self.ffn = FeedForward(d_model, dff)\n",
        "\n",
        "  def call(self, x, context):\n",
        "    x = self.causal_self_attention(x=x)\n",
        "    x = self.cross_attention(x=x, context=context)\n",
        "\n",
        "    # Cache the last attention scores for plotting later\n",
        "    self.last_attn_scores = self.cross_attention.last_attn_scores\n",
        "\n",
        "    x = self.ffn(x)  # Shape `(batch_size, seq_len, d_model)`.\n",
        "    return x"
      ]
    },
    {
      "cell_type": "code",
      "execution_count": 59,
      "metadata": {
        "id": "4hBOUuRCPPH6"
      },
      "outputs": [
        {
          "name": "stdout",
          "output_type": "stream",
          "text": [
            "(32, 64, 512)\n",
            "(32, 64, 512)\n",
            "(32, 64, 512)\n"
          ]
        }
      ],
      "source": [
        "sample_decoder_layer = DecoderLayer(d_model=512, num_heads=8, dff=2048)\n",
        "\n",
        "sample_decoder_layer_output = sample_decoder_layer(\n",
        "    x=target_emb, context=context_emb)\n",
        "\n",
        "print(target_emb.shape)\n",
        "print(context_emb.shape)\n",
        "print(sample_decoder_layer_output.shape)  # `(batch_size, seq_len, d_model)`\n"
      ]
    },
    {
      "cell_type": "code",
      "execution_count": 60,
      "metadata": {
        "id": "1kvo2XxePlSL"
      },
      "outputs": [],
      "source": [
        "class Decoder(tf.keras.layers.Layer):\n",
        "  def __init__(self, *, num_layers, d_model, num_heads, dff, vocab_size,\n",
        "               dropout_rate=0.1):\n",
        "    super(Decoder, self).__init__()\n",
        "\n",
        "    self.d_model = d_model\n",
        "    self.num_layers = num_layers\n",
        "\n",
        "    self.pos_embedding = PositionalEmbedding(vocab_size=vocab_size,\n",
        "                                             d_model=d_model)\n",
        "    self.dropout = tf.keras.layers.Dropout(dropout_rate)\n",
        "    self.dec_layers = [\n",
        "        DecoderLayer(d_model=d_model, num_heads=num_heads,\n",
        "                     dff=dff, dropout_rate=dropout_rate)\n",
        "        for _ in range(num_layers)]\n",
        "\n",
        "    self.last_attn_scores = None\n",
        "\n",
        "  def call(self, x, context):\n",
        "    # `x` is token-IDs shape (batch, target_seq_len)\n",
        "    x = self.pos_embedding(x)  # (batch_size, target_seq_len, d_model)\n",
        "\n",
        "    x = self.dropout(x)\n",
        "\n",
        "    for i in range(self.num_layers):\n",
        "      x  = self.dec_layers[i](x, context)\n",
        "\n",
        "    self.last_attn_scores = self.dec_layers[-1].last_attn_scores\n",
        "\n",
        "    # The shape of x is (batch_size, target_seq_len, d_model).\n",
        "    return x"
      ]
    },
    {
      "cell_type": "code",
      "execution_count": 61,
      "metadata": {
        "id": "zLpRPuU7PlMb"
      },
      "outputs": [
        {
          "name": "stdout",
          "output_type": "stream",
          "text": [
            "Shape target: (32, 64)\n",
            "Shape Context embedding: (32, 64, 512)\n",
            "Shape sample decoder: (32, 64, 256)\n"
          ]
        },
        {
          "name": "stderr",
          "output_type": "stream",
          "text": [
            "/home/sohum12/miniconda3/envs/tf/lib/python3.9/site-packages/keras/src/layers/layer.py:938: UserWarning: Layer 'causal_self_attention_2' (of type CausalSelfAttention) was passed an input with a mask attached to it. However, this layer does not support masking and will therefore destroy the mask information. Downstream layers will not see the mask.\n",
            "  warnings.warn(\n",
            "/home/sohum12/miniconda3/envs/tf/lib/python3.9/site-packages/keras/src/layers/layer.py:938: UserWarning: Layer 'decoder_layer_1' (of type DecoderLayer) was passed an input with a mask attached to it. However, this layer does not support masking and will therefore destroy the mask information. Downstream layers will not see the mask.\n",
            "  warnings.warn(\n"
          ]
        },
        {
          "data": {
            "text/plain": [
              "TensorShape([32, 4, 64, 64])"
            ]
          },
          "execution_count": 61,
          "metadata": {},
          "output_type": "execute_result"
        }
      ],
      "source": [
        "# Instantiate the decoder.\n",
        "sample_decoder = Decoder(num_layers=num_layers,\n",
        "                         d_model=d_model,\n",
        "                         num_heads=num_heads,\n",
        "                         dff=dff,\n",
        "                         vocab_size=target_vocab_size)\n",
        "\n",
        "output = sample_decoder(x=tg,context=context_emb)\n",
        "\n",
        "# Print the shapes.\n",
        "print(\"Shape target:\",tg.shape)\n",
        "print(\"Shape Context embedding:\",context_emb.shape)\n",
        "print(\"Shape sample decoder:\",output.shape)\n",
        "\n",
        "sample_decoder.last_attn_scores.shape  # (batch, heads, target_seq, input_seq)"
      ]
    },
    {
      "cell_type": "code",
      "execution_count": 62,
      "metadata": {
        "id": "zIgd8iMtPlCT"
      },
      "outputs": [],
      "source": [
        "class Transformer(tf.keras.Model):\n",
        "  def __init__(self, *, num_layers, d_model, num_heads, dff,\n",
        "               input_vocab_size, target_vocab_size, dropout_rate=0.1):\n",
        "    super().__init__()\n",
        "    self.encoder = Encoder(num_layers=num_layers, d_model=d_model,\n",
        "                           num_heads=num_heads, dff=dff,\n",
        "                           vocab_size=input_vocab_size,\n",
        "                           dropout_rate=dropout_rate)\n",
        "\n",
        "    self.decoder = Decoder(num_layers=num_layers, d_model=d_model,\n",
        "                           num_heads=num_heads, dff=dff,\n",
        "                           vocab_size=target_vocab_size,\n",
        "                           dropout_rate=dropout_rate)\n",
        "\n",
        "    self.final_layer = tf.keras.layers.Dense(target_vocab_size)\n",
        "\n",
        "  def call(self, inputs):\n",
        "    # To use a Keras model with `.fit` you must pass all your inputs in the\n",
        "    # first argument.\n",
        "    context, x  = inputs\n",
        "\n",
        "    context = self.encoder(context)  # (batch_size, context_len, d_model)\n",
        "\n",
        "    x = self.decoder(x, context)  # (batch_size, target_len, d_model)\n",
        "\n",
        "    # Final linear layer output.\n",
        "    logits = self.final_layer(x)  # (batch_size, target_len, target_vocab_size)\n",
        "\n",
        "    try:\n",
        "      # Drop the keras mask, so it doesn't scale the losses/metrics.\n",
        "      # b/250038731\n",
        "      del logits._keras_mask\n",
        "    except AttributeError:\n",
        "      pass\n",
        "\n",
        "    # Return the final output and the attention weights.\n",
        "    return logits\n"
      ]
    },
    {
      "cell_type": "code",
      "execution_count": 63,
      "metadata": {
        "id": "2X2RTFtaPrV_"
      },
      "outputs": [],
      "source": [
        "transformer = Transformer(\n",
        "    num_layers=num_layers,\n",
        "    d_model=d_model,\n",
        "    num_heads=num_heads,\n",
        "    dff=dff,\n",
        "    input_vocab_size=context_vocab_size,\n",
        "    target_vocab_size=target_vocab_size,\n",
        "    dropout_rate=dropout_rate)"
      ]
    },
    {
      "cell_type": "code",
      "execution_count": 64,
      "metadata": {
        "id": "7kTnbtGgPrQa"
      },
      "outputs": [
        {
          "name": "stderr",
          "output_type": "stream",
          "text": [
            "/home/sohum12/miniconda3/envs/tf/lib/python3.9/site-packages/keras/src/layers/layer.py:938: UserWarning: Layer 'global_self_attention_8' (of type GlobalSelfAttention) was passed an input with a mask attached to it. However, this layer does not support masking and will therefore destroy the mask information. Downstream layers will not see the mask.\n",
            "  warnings.warn(\n",
            "/home/sohum12/miniconda3/envs/tf/lib/python3.9/site-packages/keras/src/layers/layer.py:938: UserWarning: Layer 'encoder_layer_7' (of type EncoderLayer) was passed an input with a mask attached to it. However, this layer does not support masking and will therefore destroy the mask information. Downstream layers will not see the mask.\n",
            "  warnings.warn(\n",
            "/home/sohum12/miniconda3/envs/tf/lib/python3.9/site-packages/keras/src/layers/layer.py:938: UserWarning: Layer 'causal_self_attention_8' (of type CausalSelfAttention) was passed an input with a mask attached to it. However, this layer does not support masking and will therefore destroy the mask information. Downstream layers will not see the mask.\n",
            "  warnings.warn(\n",
            "/home/sohum12/miniconda3/envs/tf/lib/python3.9/site-packages/keras/src/layers/layer.py:938: UserWarning: Layer 'decoder_layer_7' (of type DecoderLayer) was passed an input with a mask attached to it. However, this layer does not support masking and will therefore destroy the mask information. Downstream layers will not see the mask.\n",
            "  warnings.warn(\n"
          ]
        },
        {
          "name": "stdout",
          "output_type": "stream",
          "text": [
            "(32, 64)\n",
            "(32, 64)\n",
            "(32, 64, 33593)\n",
            "(32, 4, 64, 64)\n"
          ]
        }
      ],
      "source": [
        "output = transformer((ct, tg))\n",
        "\n",
        "print(tg.shape)\n",
        "print(ct.shape)\n",
        "print(output.shape)\n",
        "\n",
        "attn_scores = transformer.decoder.dec_layers[-1].last_attn_scores\n",
        "print(attn_scores.shape)"
      ]
    },
    {
      "cell_type": "code",
      "execution_count": 65,
      "metadata": {
        "id": "2gx7mTnAP2NE"
      },
      "outputs": [
        {
          "data": {
            "text/html": [
              "<pre style=\"white-space:pre;overflow-x:auto;line-height:normal;font-family:Menlo,'DejaVu Sans Mono',consolas,'Courier New',monospace\"><span style=\"font-weight: bold\">Model: \"transformer\"</span>\n",
              "</pre>\n"
            ],
            "text/plain": [
              "\u001b[1mModel: \"transformer\"\u001b[0m\n"
            ]
          },
          "metadata": {},
          "output_type": "display_data"
        },
        {
          "data": {
            "text/html": [
              "<pre style=\"white-space:pre;overflow-x:auto;line-height:normal;font-family:Menlo,'DejaVu Sans Mono',consolas,'Courier New',monospace\">┏━━━━━━━━━━━━━━━━━━━━━━━━━━━━━━━━━┳━━━━━━━━━━━━━━━━━━━━━━━━┳━━━━━━━━━━━━━━━┓\n",
              "┃<span style=\"font-weight: bold\"> Layer (type)                    </span>┃<span style=\"font-weight: bold\"> Output Shape           </span>┃<span style=\"font-weight: bold\">       Param # </span>┃\n",
              "┡━━━━━━━━━━━━━━━━━━━━━━━━━━━━━━━━━╇━━━━━━━━━━━━━━━━━━━━━━━━╇━━━━━━━━━━━━━━━┩\n",
              "│ encoder_1 (<span style=\"color: #0087ff; text-decoration-color: #0087ff\">Encoder</span>)             │ ?                      │    <span style=\"color: #00af00; text-decoration-color: #00af00\">15,920,384</span> │\n",
              "├─────────────────────────────────┼────────────────────────┼───────────────┤\n",
              "│ decoder_1 (<span style=\"color: #0087ff; text-decoration-color: #0087ff\">Decoder</span>)             │ ?                      │    <span style=\"color: #00af00; text-decoration-color: #00af00\">24,385,280</span> │\n",
              "├─────────────────────────────────┼────────────────────────┼───────────────┤\n",
              "│ dense_54 (<span style=\"color: #0087ff; text-decoration-color: #0087ff\">Dense</span>)                │ (<span style=\"color: #00af00; text-decoration-color: #00af00\">32</span>, <span style=\"color: #00af00; text-decoration-color: #00af00\">64</span>, <span style=\"color: #00af00; text-decoration-color: #00af00\">33593</span>)        │     <span style=\"color: #00af00; text-decoration-color: #00af00\">8,633,401</span> │\n",
              "└─────────────────────────────────┴────────────────────────┴───────────────┘\n",
              "</pre>\n"
            ],
            "text/plain": [
              "┏━━━━━━━━━━━━━━━━━━━━━━━━━━━━━━━━━┳━━━━━━━━━━━━━━━━━━━━━━━━┳━━━━━━━━━━━━━━━┓\n",
              "┃\u001b[1m \u001b[0m\u001b[1mLayer (type)                   \u001b[0m\u001b[1m \u001b[0m┃\u001b[1m \u001b[0m\u001b[1mOutput Shape          \u001b[0m\u001b[1m \u001b[0m┃\u001b[1m \u001b[0m\u001b[1m      Param #\u001b[0m\u001b[1m \u001b[0m┃\n",
              "┡━━━━━━━━━━━━━━━━━━━━━━━━━━━━━━━━━╇━━━━━━━━━━━━━━━━━━━━━━━━╇━━━━━━━━━━━━━━━┩\n",
              "│ encoder_1 (\u001b[38;5;33mEncoder\u001b[0m)             │ ?                      │    \u001b[38;5;34m15,920,384\u001b[0m │\n",
              "├─────────────────────────────────┼────────────────────────┼───────────────┤\n",
              "│ decoder_1 (\u001b[38;5;33mDecoder\u001b[0m)             │ ?                      │    \u001b[38;5;34m24,385,280\u001b[0m │\n",
              "├─────────────────────────────────┼────────────────────────┼───────────────┤\n",
              "│ dense_54 (\u001b[38;5;33mDense\u001b[0m)                │ (\u001b[38;5;34m32\u001b[0m, \u001b[38;5;34m64\u001b[0m, \u001b[38;5;34m33593\u001b[0m)        │     \u001b[38;5;34m8,633,401\u001b[0m │\n",
              "└─────────────────────────────────┴────────────────────────┴───────────────┘\n"
            ]
          },
          "metadata": {},
          "output_type": "display_data"
        },
        {
          "data": {
            "text/html": [
              "<pre style=\"white-space:pre;overflow-x:auto;line-height:normal;font-family:Menlo,'DejaVu Sans Mono',consolas,'Courier New',monospace\"><span style=\"font-weight: bold\"> Total params: </span><span style=\"color: #00af00; text-decoration-color: #00af00\">48,939,065</span> (186.69 MB)\n",
              "</pre>\n"
            ],
            "text/plain": [
              "\u001b[1m Total params: \u001b[0m\u001b[38;5;34m48,939,065\u001b[0m (186.69 MB)\n"
            ]
          },
          "metadata": {},
          "output_type": "display_data"
        },
        {
          "data": {
            "text/html": [
              "<pre style=\"white-space:pre;overflow-x:auto;line-height:normal;font-family:Menlo,'DejaVu Sans Mono',consolas,'Courier New',monospace\"><span style=\"font-weight: bold\"> Trainable params: </span><span style=\"color: #00af00; text-decoration-color: #00af00\">48,939,065</span> (186.69 MB)\n",
              "</pre>\n"
            ],
            "text/plain": [
              "\u001b[1m Trainable params: \u001b[0m\u001b[38;5;34m48,939,065\u001b[0m (186.69 MB)\n"
            ]
          },
          "metadata": {},
          "output_type": "display_data"
        },
        {
          "data": {
            "text/html": [
              "<pre style=\"white-space:pre;overflow-x:auto;line-height:normal;font-family:Menlo,'DejaVu Sans Mono',consolas,'Courier New',monospace\"><span style=\"font-weight: bold\"> Non-trainable params: </span><span style=\"color: #00af00; text-decoration-color: #00af00\">0</span> (0.00 B)\n",
              "</pre>\n"
            ],
            "text/plain": [
              "\u001b[1m Non-trainable params: \u001b[0m\u001b[38;5;34m0\u001b[0m (0.00 B)\n"
            ]
          },
          "metadata": {},
          "output_type": "display_data"
        }
      ],
      "source": [
        "transformer.summary()\n"
      ]
    },
    {
      "cell_type": "code",
      "execution_count": 66,
      "metadata": {
        "id": "f8PWylytPrNk"
      },
      "outputs": [],
      "source": [
        "class CustomSchedule(tf.keras.optimizers.schedules.LearningRateSchedule):\n",
        "  def __init__(self, d_model, warmup_steps=4000):\n",
        "    super().__init__()\n",
        "    d_model = d_model\n",
        "    warmup_steps = warmup_steps\n",
        "\n",
        "    self.d_model = d_model\n",
        "    self.d_model = tf.cast(self.d_model, tf.float32)\n",
        "\n",
        "    self.warmup_steps = warmup_steps\n",
        "\n",
        "  def __call__(self, step):\n",
        "    step = tf.cast(step, dtype=tf.float32)\n",
        "    arg1 = tf.math.rsqrt(step)\n",
        "    arg2 = step * (self.warmup_steps ** -1.5)\n",
        "    return tf.math.rsqrt(self.d_model) * tf.math.minimum(arg1, arg2)\n",
        "\n",
        "  def get_config(self):\n",
        "    return {\n",
        "        \"d_model\": float(self.d_model),\n",
        "        \"warmup_steps\": float(self.warmup_steps),\n",
        "    }\n",
        "\n",
        "  @classmethod\n",
        "  def from_config(cls, config):\n",
        "      return cls(**config)"
      ]
    },
    {
      "cell_type": "code",
      "execution_count": 67,
      "metadata": {
        "id": "EO9_0eGpPrIr"
      },
      "outputs": [],
      "source": [
        "learning_rate = CustomSchedule(d_model)\n",
        "\n",
        "optimizer = tf.keras.optimizers.Adam(learning_rate, beta_1=0.9, beta_2=0.98,\n",
        "                                     epsilon=1e-9)"
      ]
    },
    {
      "cell_type": "code",
      "execution_count": 68,
      "metadata": {
        "id": "rPCW1lCcP9Hg"
      },
      "outputs": [],
      "source": [
        "def masked_loss(label, pred):\n",
        "  mask = label != 0\n",
        "  loss_object = tf.keras.losses.SparseCategoricalCrossentropy(\n",
        "    from_logits=True, reduction='none')\n",
        "  loss = loss_object(label, pred)\n",
        "\n",
        "  mask = tf.cast(mask, dtype=loss.dtype)\n",
        "  loss *= mask\n",
        "\n",
        "  loss = tf.reduce_sum(loss)/tf.reduce_sum(mask)\n",
        "  return loss"
      ]
    },
    {
      "cell_type": "code",
      "execution_count": 69,
      "metadata": {
        "id": "wN-Dn7XgP_QU"
      },
      "outputs": [],
      "source": [
        "def masked_accuracy(label, pred):\n",
        "  pred = tf.argmax(pred, axis=2)\n",
        "  label = tf.cast(label, pred.dtype)\n",
        "  match = label == pred\n",
        "\n",
        "  mask = label != 0\n",
        "\n",
        "  match = match & mask\n",
        "\n",
        "  match = tf.cast(match, dtype=tf.float32)\n",
        "  mask = tf.cast(mask, dtype=tf.float32)\n",
        "  return tf.reduce_sum(match)/tf.reduce_sum(mask)"
      ]
    },
    {
      "cell_type": "code",
      "execution_count": null,
      "metadata": {},
      "outputs": [],
      "source": []
    },
    {
      "cell_type": "code",
      "execution_count": 70,
      "metadata": {
        "id": "jTc1D32iP_NL"
      },
      "outputs": [],
      "source": [
        "# # Define checkpoint callback with explicit model reference\n",
        "# checkpoint_filepath = f\"{model_dir}/checkpoints/checkpoint.weights.h5\"  # Example filepath\n",
        "# checkpoint_callback = tf.keras.callbacks.ModelCheckpoint(\n",
        "#     filepath=checkpoint_filepath,\n",
        "#     monitor='val_loss',           # Metric to monitor\n",
        "#     save_best_only=True,          # Save only the best model\n",
        "#     save_weights_only=True,       # Save only weights (not full model)\n",
        "#     mode='min',                   # Minimize val_loss\n",
        "#     save_freq='epoch'             # Save every epoch\n",
        "# )"
      ]
    },
    {
      "cell_type": "code",
      "execution_count": 71,
      "metadata": {},
      "outputs": [
        {
          "name": "stdout",
          "output_type": "stream",
          "text": [
            "Loading pretrained weights from /mnt/c/Users/Sohum/Documents/Transformer/TRANS_BASE_EK/checkpoints/checkpoint.weights.h5\n"
          ]
        }
      ],
      "source": [
        "if pretrained_weights != None:\n",
        "  print(f\"Loading pretrained weights from {pretrained_weights}\")\n",
        "  transformer.load_weights(pretrained_weights)"
      ]
    },
    {
      "cell_type": "code",
      "execution_count": 72,
      "metadata": {
        "id": "EcOHqByhP_FE"
      },
      "outputs": [],
      "source": [
        "transformer.compile(\n",
        "    loss=masked_loss,\n",
        "    optimizer=optimizer,\n",
        "    metrics=[masked_accuracy])"
      ]
    },
    {
      "cell_type": "code",
      "execution_count": 73,
      "metadata": {
        "id": "lGYmHcCFP_By"
      },
      "outputs": [],
      "source": [
        "# transformer.fit(train_batches,\n",
        "#                 epochs=epochs,\n",
        "#                 validation_data=val_batches,\n",
        "#                 callbacks=[checkpoint_callback]\n",
        "#                 )"
      ]
    },
    {
      "cell_type": "code",
      "execution_count": 74,
      "metadata": {},
      "outputs": [
        {
          "name": "stdout",
          "output_type": "stream",
          "text": [
            "Epoch 1/2\n"
          ]
        },
        {
          "name": "stderr",
          "output_type": "stream",
          "text": [
            "Epoch 1 Training: 100%|██████████| 3043/3043 [23:06<00:00,  1.20s/batch, loss=0.5597, acc=0.8910]  2025-04-07 04:46:46.912692: I tensorflow/core/framework/local_rendezvous.cc:405] Local rendezvous is aborting with status: OUT_OF_RANGE: End of sequence\n",
            "Epoch 1 Training: 100%|██████████| 3043/3043 [23:06<00:00,  2.20batch/s, loss=0.5597, acc=0.8910]\n",
            "Epoch 1 Validation: 100%|██████████| 542/542 [01:46<00:00,  5.31batch/s, val_loss=0.5472, val_acc=0.8914]2025-04-07 04:48:34.398094: I tensorflow/core/framework/local_rendezvous.cc:405] Local rendezvous is aborting with status: OUT_OF_RANGE: End of sequence\n",
            "Epoch 1 Validation: 100%|██████████| 542/542 [01:46<00:00,  5.07batch/s, val_loss=0.5472, val_acc=0.8914]\n"
          ]
        },
        {
          "name": "stdout",
          "output_type": "stream",
          "text": [
            "Epoch 1 - Loss: 0.5595, Accuracy: 0.8914, Val Loss: 0.5472, Val Accuracy: 0.8914\n",
            "Saved weights to /mnt/c/Users/Sohum/Documents/Transformer/TRANS_BASE_EK/checkpoints/checkpoint.weights.h5 with val_loss: 0.5472\n",
            "Epoch 2/2\n"
          ]
        },
        {
          "name": "stderr",
          "output_type": "stream",
          "text": [
            "Epoch 2 Training: 100%|██████████| 3043/3043 [22:27<00:00,  2.26batch/s, loss=0.4983, acc=0.8965]\n",
            "Epoch 2 Validation: 100%|██████████| 542/542 [01:45<00:00,  5.61batch/s, val_loss=0.5992, val_acc=0.8955]2025-04-07 05:12:54.128636: I tensorflow/core/framework/local_rendezvous.cc:405] Local rendezvous is aborting with status: OUT_OF_RANGE: End of sequence\n",
            "Epoch 2 Validation: 100%|██████████| 542/542 [01:45<00:00,  5.12batch/s, val_loss=0.5992, val_acc=0.8955]"
          ]
        },
        {
          "name": "stdout",
          "output_type": "stream",
          "text": [
            "Epoch 2 - Loss: 0.4989, Accuracy: 0.8955, Val Loss: 0.5992, Val Accuracy: 0.8955\n"
          ]
        },
        {
          "name": "stderr",
          "output_type": "stream",
          "text": [
            "\n"
          ]
        }
      ],
      "source": [
        "# Define the effective batch size you want to simulate\n",
        "EFFECTIVE_BATCH_SIZE = 128  # Adjust this based on your needs\n",
        "ACCUMULATION_STEPS = EFFECTIVE_BATCH_SIZE // BATCH_SIZE  # Number of steps to accumulate gradients\n",
        "\n",
        "loss_fn = tf.keras.losses.SparseCategoricalCrossentropy(from_logits=True)\n",
        "masked_accuracy = tf.keras.metrics.SparseCategoricalAccuracy(name='masked_accuracy')\n",
        "\n",
        "# Custom training loop with gradient accumulation\n",
        "@tf.function\n",
        "def train_step(inputs, targets):\n",
        "    with tf.GradientTape() as tape:\n",
        "        predictions = transformer(inputs, training=True)\n",
        "        loss = loss_fn(targets, predictions)\n",
        "        # Apply masking for padded tokens (assuming your model handles this)\n",
        "        mask = tf.cast(targets != 0, tf.float32)\n",
        "        loss = tf.reduce_sum(loss * mask) / tf.reduce_sum(mask)\n",
        "    gradients = tape.gradient(loss, transformer.trainable_variables)\n",
        "    return loss, gradients\n",
        "\n",
        "# Define checkpoint filepath (no need for ModelCheckpoint object)\n",
        "checkpoint_filepath = f\"{model_dir}/checkpoints/checkpoint.weights.h5\"\n",
        "\n",
        "# Lists to store metrics for plotting\n",
        "train_losses = []\n",
        "train_accuracies = []\n",
        "val_losses = []\n",
        "val_accuracies = []\n",
        "\n",
        "# Custom training loop with progress bar and metrics saving\n",
        "for epoch in range(epochs):\n",
        "    print(f\"Epoch {epoch + 1}/{epochs}\")\n",
        "    \n",
        "    # Training\n",
        "    train_loss = tf.keras.metrics.Mean(name='train_loss')\n",
        "    train_accuracy = masked_accuracy\n",
        "    accumulated_gradients = [tf.zeros_like(var) for var in transformer.trainable_variables]\n",
        "    step_count = 0\n",
        "    \n",
        "    # Calculate total number of batches for progress bar\n",
        "    total_batches = tf.data.experimental.cardinality(train_batches).numpy()\n",
        "    if total_batches < 0:  # If cardinality is unknown, estimate or set a default\n",
        "        total_batches = len(list(train_batches))  # This might be slow; use with caution\n",
        "    \n",
        "    # Training loop with progress bar\n",
        "    with tqdm(total=total_batches, desc=f\"Epoch {epoch + 1} Training\", unit=\"batch\") as pbar:\n",
        "        for batch_idx, ((ct, tg_inputs), tg_labels) in enumerate(train_batches):\n",
        "            loss, gradients = train_step((ct, tg_inputs), tg_labels)\n",
        "            \n",
        "            # Accumulate gradients\n",
        "            accumulated_gradients = [acc_grad + grad for acc_grad, grad in zip(accumulated_gradients, gradients)]\n",
        "            step_count += 1\n",
        "            \n",
        "            # Update weights when accumulation steps are reached\n",
        "            if step_count % ACCUMULATION_STEPS == 0:\n",
        "                optimizer.apply_gradients(zip(accumulated_gradients, transformer.trainable_variables))\n",
        "                accumulated_gradients = [tf.zeros_like(var) for var in transformer.trainable_variables]\n",
        "                step_count = 0\n",
        "            \n",
        "            train_loss.update_state(loss)\n",
        "            train_accuracy.update_state(tg_labels, transformer([ct, tg_inputs], training=True))\n",
        "            \n",
        "            # Update progress bar with current loss and accuracy\n",
        "            if batch_idx % 100 == 0:\n",
        "                pbar.set_postfix({'loss': f\"{train_loss.result():.4f}\", 'acc': f\"{train_accuracy.result():.4f}\"})\n",
        "            pbar.update(1)\n",
        "    \n",
        "    # Apply remaining gradients if any\n",
        "    if step_count > 0:\n",
        "        optimizer.apply_gradients(zip(accumulated_gradients, transformer.trainable_variables))\n",
        "    \n",
        "    # Validation\n",
        "    val_loss = tf.keras.metrics.Mean(name='val_loss')\n",
        "    val_accuracy = masked_accuracy\n",
        "    \n",
        "    # Calculate total validation batches for progress bar\n",
        "    total_val_batches = tf.data.experimental.cardinality(val_batches).numpy()\n",
        "    if total_val_batches < 0:\n",
        "        total_val_batches = len(list(val_batches))  # Estimate if unknown\n",
        "    \n",
        "    with tqdm(total=total_val_batches, desc=f\"Epoch {epoch + 1} Validation\", unit=\"batch\") as pbar:\n",
        "        for batch_idx, ((ct, tg_inputs), tg_labels) in enumerate(val_batches):\n",
        "            predictions = transformer([ct, tg_inputs], training=False)\n",
        "            loss = loss_fn(tg_labels, predictions)\n",
        "            mask = tf.cast(tg_labels != 0, tf.float32)\n",
        "            loss = tf.reduce_sum(loss * mask) / tf.reduce_sum(mask)\n",
        "            val_loss.update_state(loss)\n",
        "            val_accuracy.update_state(tg_labels, predictions)\n",
        "            pbar.set_postfix({'val_loss': f\"{val_loss.result():.4f}\", 'val_acc': f\"{val_accuracy.result():.4f}\"})\n",
        "            pbar.update(1)\n",
        "    \n",
        "    # Store metrics for plotting\n",
        "    train_losses.append(train_loss.result().numpy())\n",
        "    train_accuracies.append(train_accuracy.result().numpy())\n",
        "    val_losses.append(val_loss.result().numpy())\n",
        "    val_accuracies.append(val_accuracy.result().numpy())\n",
        "    \n",
        "    # Print epoch results\n",
        "    print(f\"Epoch {epoch + 1} - Loss: {train_loss.result():.4f}, Accuracy: {train_accuracy.result():.4f}, \"\n",
        "          f\"Val Loss: {val_loss.result():.4f}, Val Accuracy: {val_accuracy.result():.4f}\")\n",
        "    \n",
        "    # Manual checkpoint saving logic\n",
        "    current_val_loss = val_loss.result().numpy()\n",
        "    if 'best_val_loss' not in locals() or current_val_loss < best_val_loss:\n",
        "        best_val_loss = current_val_loss\n",
        "        transformer.save_weights(checkpoint_filepath, overwrite=True)\n",
        "        print(f\"Saved weights to {checkpoint_filepath} with val_loss: {current_val_loss:.4f}\")"
      ]
    },
    {
      "cell_type": "code",
      "execution_count": 75,
      "metadata": {},
      "outputs": [
        {
          "name": "stdout",
          "output_type": "stream",
          "text": [
            "Training metrics saved to /mnt/c/Users/Sohum/Documents/Transformer/TRANS_BASE_EK/training_metrics.txt\n",
            "Plots saved to /mnt/c/Users/Sohum/Documents/Transformer/TRANS_BASE_EK/training_plots.png\n"
          ]
        },
        {
          "data": {
            "image/png": "[encoded data removed]",
            "text/plain": [
              "<Figure size 1200x500 with 2 Axes>"
            ]
          },
          "metadata": {},
          "output_type": "display_data"
        }
      ],
      "source": [
        "# After training, save metrics to a file\n",
        "metrics_filepath = os.path.join(model_dir, \"training_metrics.txt\")\n",
        "with open(metrics_filepath, 'w') as f:\n",
        "    f.write(\"Epoch,Train Loss,Train Accuracy,Validation Loss,Validation Accuracy\\n\")\n",
        "    for i in range(epochs):\n",
        "        f.write(f\"{i+1},{train_losses[i]},{train_accuracies[i]},{val_losses[i]},{val_accuracies[i]}\\n\")\n",
        "print(f\"Training metrics saved to {metrics_filepath}\")\n",
        "\n",
        "# Plotting Loss and Accuracy\n",
        "plt.figure(figsize=(12, 5))\n",
        "\n",
        "# Plot Loss\n",
        "plt.subplot(1, 2, 1)\n",
        "plt.plot(range(1, epochs + 1), train_losses, label='Train Loss')\n",
        "plt.plot(range(1, epochs + 1), val_losses, label='Validation Loss')\n",
        "plt.xlabel('Epoch')\n",
        "plt.ylabel('Loss')\n",
        "plt.title('Training and Validation Loss')\n",
        "plt.legend()\n",
        "plt.grid(True)\n",
        "\n",
        "# Plot Accuracy\n",
        "plt.subplot(1, 2, 2)\n",
        "plt.plot(range(1, epochs + 1), train_accuracies, label='Train Accuracy')\n",
        "plt.plot(range(1, epochs + 1), val_accuracies, label='Validation Accuracy')\n",
        "plt.xlabel('Epoch')\n",
        "plt.ylabel('Accuracy')\n",
        "plt.title('Training and Validation Accuracy')\n",
        "plt.legend()\n",
        "plt.grid(True)\n",
        "\n",
        "# Save the plot\n",
        "plot_filepath = os.path.join(model_dir, \"training_plots.png\")\n",
        "plt.tight_layout()\n",
        "plt.savefig(plot_filepath)\n",
        "print(f\"Plots saved to {plot_filepath}\")\n",
        "\n",
        "# Display the plot (optional, remove if running in a non-interactive environment)\n",
        "plt.show()"
      ]
    },
    {
      "cell_type": "code",
      "execution_count": 76,
      "metadata": {},
      "outputs": [
        {
          "name": "stdout",
          "output_type": "stream",
          "text": [
            "INFO:tensorflow:Assets written to: /mnt/c/Users/Sohum/Documents/Transformer/TRANS_BASE_EK/saved_keras/assets\n"
          ]
        },
        {
          "name": "stderr",
          "output_type": "stream",
          "text": [
            "INFO:tensorflow:Assets written to: /mnt/c/Users/Sohum/Documents/Transformer/TRANS_BASE_EK/saved_keras/assets\n"
          ]
        },
        {
          "name": "stdout",
          "output_type": "stream",
          "text": [
            "Saved artifact at '/mnt/c/Users/Sohum/Documents/Transformer/TRANS_BASE_EK/saved_keras'. The following endpoints are available:\n",
            "\n",
            "* Endpoint 'serve'\n",
            "  args_0 (POSITIONAL_ONLY): Tuple[TensorSpec(shape=(None, 64), dtype=tf.float32, name=None), TensorSpec(shape=(None, 64), dtype=tf.float32, name=None)]\n",
            "Output Type:\n",
            "  TensorSpec(shape=(None, 64, 33593), dtype=tf.float32, name=None)\n",
            "Captures:\n",
            "  139893895510320: TensorSpec(shape=(), dtype=tf.resource, name=None)\n",
            "  139893894315696: TensorSpec(shape=(2048, 256), dtype=tf.float32, name=None)\n",
            "  139899711328672: TensorSpec(shape=(), dtype=tf.resource, name=None)\n",
            "  139895207518448: TensorSpec(shape=(), dtype=tf.resource, name=None)\n",
            "  139893888136992: TensorSpec(shape=(), dtype=tf.resource, name=None)\n",
            "  139893891056032: TensorSpec(shape=(), dtype=tf.resource, name=None)\n",
            "  139894131577600: TensorSpec(shape=(), dtype=tf.resource, name=None)\n",
            "  139893893966832: TensorSpec(shape=(), dtype=tf.resource, name=None)\n",
            "  139893887949984: TensorSpec(shape=(), dtype=tf.resource, name=None)\n",
            "  139893899984032: TensorSpec(shape=(), dtype=tf.resource, name=None)\n",
            "  139893892353712: TensorSpec(shape=(), dtype=tf.resource, name=None)\n",
            "  139893892353888: TensorSpec(shape=(), dtype=tf.resource, name=None)\n",
            "  139893892353184: TensorSpec(shape=(), dtype=tf.resource, name=None)\n",
            "  139893892350720: TensorSpec(shape=(), dtype=tf.resource, name=None)\n",
            "  139893892353008: TensorSpec(shape=(), dtype=tf.resource, name=None)\n",
            "  139893887981168: TensorSpec(shape=(), dtype=tf.resource, name=None)\n",
            "  139893887981696: TensorSpec(shape=(), dtype=tf.resource, name=None)\n",
            "  139893887981344: TensorSpec(shape=(), dtype=tf.resource, name=None)\n",
            "  139893887982048: TensorSpec(shape=(), dtype=tf.resource, name=None)\n",
            "  139893888169232: TensorSpec(shape=(), dtype=tf.resource, name=None)\n",
            "  139893888170640: TensorSpec(shape=(), dtype=tf.resource, name=None)\n",
            "  139893888171696: TensorSpec(shape=(), dtype=tf.resource, name=None)\n",
            "  139893888171520: TensorSpec(shape=(), dtype=tf.resource, name=None)\n",
            "  139893888171168: TensorSpec(shape=(), dtype=tf.resource, name=None)\n",
            "  139893888171872: TensorSpec(shape=(), dtype=tf.resource, name=None)\n",
            "  139893888168000: TensorSpec(shape=(), dtype=tf.resource, name=None)\n",
            "  139893888169056: TensorSpec(shape=(), dtype=tf.resource, name=None)\n",
            "  139893888169584: TensorSpec(shape=(), dtype=tf.resource, name=None)\n",
            "  139893888040272: TensorSpec(shape=(), dtype=tf.resource, name=None)\n",
            "  139893888040624: TensorSpec(shape=(), dtype=tf.resource, name=None)\n",
            "  139893888036928: TensorSpec(shape=(), dtype=tf.resource, name=None)\n",
            "  139893888038512: TensorSpec(shape=(), dtype=tf.resource, name=None)\n",
            "  139893888039392: TensorSpec(shape=(), dtype=tf.resource, name=None)\n",
            "  139893888037280: TensorSpec(shape=(), dtype=tf.resource, name=None)\n",
            "  139893888037104: TensorSpec(shape=(), dtype=tf.resource, name=None)\n",
            "  139893887714752: TensorSpec(shape=(), dtype=tf.resource, name=None)\n",
            "  139893887714576: TensorSpec(shape=(), dtype=tf.resource, name=None)\n",
            "  139893887715104: TensorSpec(shape=(), dtype=tf.resource, name=None)\n",
            "  139893887714928: TensorSpec(shape=(), dtype=tf.resource, name=None)\n",
            "  139893887715456: TensorSpec(shape=(), dtype=tf.resource, name=None)\n",
            "  139893887714400: TensorSpec(shape=(), dtype=tf.resource, name=None)\n",
            "  139893887715984: TensorSpec(shape=(), dtype=tf.resource, name=None)\n",
            "  139893887713520: TensorSpec(shape=(), dtype=tf.resource, name=None)\n",
            "  139893887715808: TensorSpec(shape=(), dtype=tf.resource, name=None)\n",
            "  139893887713696: TensorSpec(shape=(), dtype=tf.resource, name=None)\n",
            "  139893887716688: TensorSpec(shape=(), dtype=tf.resource, name=None)\n",
            "  139893887716512: TensorSpec(shape=(), dtype=tf.resource, name=None)\n",
            "  139893887717040: TensorSpec(shape=(), dtype=tf.resource, name=None)\n",
            "  139893887715632: TensorSpec(shape=(), dtype=tf.resource, name=None)\n",
            "  139893887716864: TensorSpec(shape=(), dtype=tf.resource, name=None)\n",
            "  139893887716160: TensorSpec(shape=(), dtype=tf.resource, name=None)\n",
            "  139893887715280: TensorSpec(shape=(), dtype=tf.resource, name=None)\n",
            "  139893887716336: TensorSpec(shape=(), dtype=tf.resource, name=None)\n",
            "  139893887714224: TensorSpec(shape=(), dtype=tf.resource, name=None)\n",
            "  139893887717216: TensorSpec(shape=(), dtype=tf.resource, name=None)\n",
            "  139893887902816: TensorSpec(shape=(), dtype=tf.resource, name=None)\n",
            "  139893887901936: TensorSpec(shape=(), dtype=tf.resource, name=None)\n",
            "  139893887904048: TensorSpec(shape=(), dtype=tf.resource, name=None)\n",
            "  139893887903344: TensorSpec(shape=(), dtype=tf.resource, name=None)\n",
            "  139893887903168: TensorSpec(shape=(), dtype=tf.resource, name=None)\n",
            "  139893887904224: TensorSpec(shape=(), dtype=tf.resource, name=None)\n",
            "  139893887905456: TensorSpec(shape=(), dtype=tf.resource, name=None)\n",
            "  139893887904752: TensorSpec(shape=(), dtype=tf.resource, name=None)\n",
            "  139893887902112: TensorSpec(shape=(), dtype=tf.resource, name=None)\n",
            "  139893887905280: TensorSpec(shape=(), dtype=tf.resource, name=None)\n",
            "  139893887904400: TensorSpec(shape=(), dtype=tf.resource, name=None)\n",
            "  139893887904928: TensorSpec(shape=(), dtype=tf.resource, name=None)\n",
            "  139893887399712: TensorSpec(shape=(), dtype=tf.resource, name=None)\n",
            "  139893887399008: TensorSpec(shape=(), dtype=tf.resource, name=None)\n",
            "  139893887400416: TensorSpec(shape=(), dtype=tf.resource, name=None)\n",
            "  139893887399536: TensorSpec(shape=(), dtype=tf.resource, name=None)\n",
            "  139893887401120: TensorSpec(shape=(), dtype=tf.resource, name=None)\n",
            "  139893887398832: TensorSpec(shape=(), dtype=tf.resource, name=None)\n",
            "  139893887400240: TensorSpec(shape=(), dtype=tf.resource, name=None)\n",
            "  139893887401296: TensorSpec(shape=(), dtype=tf.resource, name=None)\n",
            "  139893887400944: TensorSpec(shape=(), dtype=tf.resource, name=None)\n",
            "  139893887398480: TensorSpec(shape=(), dtype=tf.resource, name=None)\n",
            "  139893887411824: TensorSpec(shape=(), dtype=tf.resource, name=None)\n",
            "  139893887411120: TensorSpec(shape=(), dtype=tf.resource, name=None)\n",
            "  139893887412528: TensorSpec(shape=(), dtype=tf.resource, name=None)\n",
            "  139893887412000: TensorSpec(shape=(), dtype=tf.resource, name=None)\n",
            "  139893887411648: TensorSpec(shape=(), dtype=tf.resource, name=None)\n",
            "  139893887412704: TensorSpec(shape=(), dtype=tf.resource, name=None)\n",
            "  139893887413936: TensorSpec(shape=(), dtype=tf.resource, name=None)\n",
            "  139893887413232: TensorSpec(shape=(), dtype=tf.resource, name=None)\n",
            "  139893887410592: TensorSpec(shape=(), dtype=tf.resource, name=None)\n",
            "  139893887412880: TensorSpec(shape=(), dtype=tf.resource, name=None)\n",
            "  139893887413408: TensorSpec(shape=(), dtype=tf.resource, name=None)\n",
            "  139893887430896: TensorSpec(shape=(), dtype=tf.resource, name=None)\n",
            "  139893887432832: TensorSpec(shape=(), dtype=tf.resource, name=None)\n",
            "  139893887432128: TensorSpec(shape=(), dtype=tf.resource, name=None)\n",
            "  139893887431952: TensorSpec(shape=(), dtype=tf.resource, name=None)\n",
            "  139893887433008: TensorSpec(shape=(), dtype=tf.resource, name=None)\n",
            "  139893887434240: TensorSpec(shape=(), dtype=tf.resource, name=None)\n",
            "  139893887433536: TensorSpec(shape=(), dtype=tf.resource, name=None)\n",
            "  139893887431248: TensorSpec(shape=(), dtype=tf.resource, name=None)\n",
            "  139893887434064: TensorSpec(shape=(), dtype=tf.resource, name=None)\n",
            "  139893887433184: TensorSpec(shape=(), dtype=tf.resource, name=None)\n",
            "  139893887433712: TensorSpec(shape=(), dtype=tf.resource, name=None)\n",
            "  139893893026560: TensorSpec(shape=(2048, 256), dtype=tf.float32, name=None)\n",
            "  139893887447104: TensorSpec(shape=(), dtype=tf.resource, name=None)\n",
            "  139893887449040: TensorSpec(shape=(), dtype=tf.resource, name=None)\n",
            "  139893887447808: TensorSpec(shape=(), dtype=tf.resource, name=None)\n",
            "  139893887449744: TensorSpec(shape=(), dtype=tf.resource, name=None)\n",
            "  139893887448864: TensorSpec(shape=(), dtype=tf.resource, name=None)\n",
            "  139893887450448: TensorSpec(shape=(), dtype=tf.resource, name=None)\n",
            "  139893887447984: TensorSpec(shape=(), dtype=tf.resource, name=None)\n",
            "  139893887449568: TensorSpec(shape=(), dtype=tf.resource, name=None)\n",
            "  139893887450624: TensorSpec(shape=(), dtype=tf.resource, name=None)\n",
            "  139893887450272: TensorSpec(shape=(), dtype=tf.resource, name=None)\n",
            "  139893887447456: TensorSpec(shape=(), dtype=tf.resource, name=None)\n",
            "  139893887465248: TensorSpec(shape=(), dtype=tf.resource, name=None)\n",
            "  139893887464544: TensorSpec(shape=(), dtype=tf.resource, name=None)\n",
            "  139893887465952: TensorSpec(shape=(), dtype=tf.resource, name=None)\n",
            "  139893887465072: TensorSpec(shape=(), dtype=tf.resource, name=None)\n",
            "  139893887466656: TensorSpec(shape=(), dtype=tf.resource, name=None)\n",
            "  139893887464368: TensorSpec(shape=(), dtype=tf.resource, name=None)\n",
            "  139893887465776: TensorSpec(shape=(), dtype=tf.resource, name=None)\n",
            "  139893887466832: TensorSpec(shape=(), dtype=tf.resource, name=None)\n",
            "  139893887466480: TensorSpec(shape=(), dtype=tf.resource, name=None)\n",
            "  139893887464016: TensorSpec(shape=(), dtype=tf.resource, name=None)\n",
            "  139893887481456: TensorSpec(shape=(), dtype=tf.resource, name=None)\n",
            "  139893887480752: TensorSpec(shape=(), dtype=tf.resource, name=None)\n",
            "  139893887482160: TensorSpec(shape=(), dtype=tf.resource, name=None)\n",
            "  139893887481632: TensorSpec(shape=(), dtype=tf.resource, name=None)\n",
            "  139893887481280: TensorSpec(shape=(), dtype=tf.resource, name=None)\n",
            "  139893887482336: TensorSpec(shape=(), dtype=tf.resource, name=None)\n",
            "  139893887483568: TensorSpec(shape=(), dtype=tf.resource, name=None)\n",
            "  139893887482864: TensorSpec(shape=(), dtype=tf.resource, name=None)\n",
            "  139893887480224: TensorSpec(shape=(), dtype=tf.resource, name=None)\n",
            "  139893887482512: TensorSpec(shape=(), dtype=tf.resource, name=None)\n",
            "  139893887483040: TensorSpec(shape=(), dtype=tf.resource, name=None)\n",
            "  139893887496432: TensorSpec(shape=(), dtype=tf.resource, name=None)\n",
            "  139893887498368: TensorSpec(shape=(), dtype=tf.resource, name=None)\n",
            "  139893887497664: TensorSpec(shape=(), dtype=tf.resource, name=None)\n",
            "  139893887497488: TensorSpec(shape=(), dtype=tf.resource, name=None)\n",
            "  139893887498544: TensorSpec(shape=(), dtype=tf.resource, name=None)\n",
            "  139893887499776: TensorSpec(shape=(), dtype=tf.resource, name=None)\n",
            "  139893887499072: TensorSpec(shape=(), dtype=tf.resource, name=None)\n",
            "  139893887496784: TensorSpec(shape=(), dtype=tf.resource, name=None)\n",
            "  139893887498720: TensorSpec(shape=(), dtype=tf.resource, name=None)\n",
            "  139893887499248: TensorSpec(shape=(), dtype=tf.resource, name=None)\n",
            "  139893887516912: TensorSpec(shape=(), dtype=tf.resource, name=None)\n",
            "  139893887518672: TensorSpec(shape=(), dtype=tf.resource, name=None)\n",
            "  139893887517968: TensorSpec(shape=(), dtype=tf.resource, name=None)\n",
            "  139893887517792: TensorSpec(shape=(), dtype=tf.resource, name=None)\n",
            "  139893887519024: TensorSpec(shape=(), dtype=tf.resource, name=None)\n",
            "  139893887519904: TensorSpec(shape=(), dtype=tf.resource, name=None)\n",
            "  139893887519552: TensorSpec(shape=(), dtype=tf.resource, name=None)\n",
            "  139893887517088: TensorSpec(shape=(), dtype=tf.resource, name=None)\n",
            "  139893887520080: TensorSpec(shape=(), dtype=tf.resource, name=None)\n",
            "  139893887519200: TensorSpec(shape=(), dtype=tf.resource, name=None)\n",
            "  139893887519728: TensorSpec(shape=(), dtype=tf.resource, name=None)\n",
            "  139893887534528: TensorSpec(shape=(), dtype=tf.resource, name=None)\n",
            "  139893887533824: TensorSpec(shape=(), dtype=tf.resource, name=None)\n",
            "  139893887535232: TensorSpec(shape=(), dtype=tf.resource, name=None)\n",
            "  139893887534352: TensorSpec(shape=(), dtype=tf.resource, name=None)\n",
            "  139893887535936: TensorSpec(shape=(), dtype=tf.resource, name=None)\n",
            "  139893887533648: TensorSpec(shape=(), dtype=tf.resource, name=None)\n",
            "  139893887536992: TensorSpec(shape=(), dtype=tf.resource, name=None)\n",
            "  139893887536288: TensorSpec(shape=(), dtype=tf.resource, name=None)\n",
            "  139893887536112: TensorSpec(shape=(), dtype=tf.resource, name=None)\n",
            "  139893887535056: TensorSpec(shape=(), dtype=tf.resource, name=None)\n",
            "  139893887536640: TensorSpec(shape=(), dtype=tf.resource, name=None)\n",
            "  139893887545936: TensorSpec(shape=(), dtype=tf.resource, name=None)\n",
            "  139893887547344: TensorSpec(shape=(), dtype=tf.resource, name=None)\n",
            "  139893887546464: TensorSpec(shape=(), dtype=tf.resource, name=None)\n",
            "  139893887548048: TensorSpec(shape=(), dtype=tf.resource, name=None)\n",
            "  139893887545760: TensorSpec(shape=(), dtype=tf.resource, name=None)\n",
            "  139893887549104: TensorSpec(shape=(), dtype=tf.resource, name=None)\n",
            "  139893887548400: TensorSpec(shape=(), dtype=tf.resource, name=None)\n",
            "  139893887548224: TensorSpec(shape=(), dtype=tf.resource, name=None)\n",
            "  139893887549280: TensorSpec(shape=(), dtype=tf.resource, name=None)\n",
            "  139893887547168: TensorSpec(shape=(), dtype=tf.resource, name=None)\n",
            "  139893887548752: TensorSpec(shape=(), dtype=tf.resource, name=None)\n",
            "  139893887567648: TensorSpec(shape=(), dtype=tf.resource, name=None)\n",
            "  139893887567120: TensorSpec(shape=(), dtype=tf.resource, name=None)\n",
            "  139893887566768: TensorSpec(shape=(), dtype=tf.resource, name=None)\n",
            "  139893887567824: TensorSpec(shape=(), dtype=tf.resource, name=None)\n",
            "  139893887569056: TensorSpec(shape=(), dtype=tf.resource, name=None)\n",
            "  139893887568352: TensorSpec(shape=(), dtype=tf.resource, name=None)\n",
            "  139893887569760: TensorSpec(shape=(), dtype=tf.resource, name=None)\n",
            "  139893887568880: TensorSpec(shape=(), dtype=tf.resource, name=None)\n",
            "  139893887566240: TensorSpec(shape=(), dtype=tf.resource, name=None)\n",
            "  139893887568000: TensorSpec(shape=(), dtype=tf.resource, name=None)\n",
            "  139893887569232: TensorSpec(shape=(), dtype=tf.resource, name=None)\n",
            "  139893887583152: TensorSpec(shape=(), dtype=tf.resource, name=None)\n",
            "  139893887582976: TensorSpec(shape=(), dtype=tf.resource, name=None)\n",
            "  139893887584032: TensorSpec(shape=(), dtype=tf.resource, name=None)\n",
            "  139893887585264: TensorSpec(shape=(), dtype=tf.resource, name=None)\n",
            "  139893887584560: TensorSpec(shape=(), dtype=tf.resource, name=None)\n",
            "  139893887585968: TensorSpec(shape=(), dtype=tf.resource, name=None)\n",
            "  139893887585088: TensorSpec(shape=(), dtype=tf.resource, name=None)\n",
            "  139893887583856: TensorSpec(shape=(), dtype=tf.resource, name=None)\n",
            "  139893887584208: TensorSpec(shape=(), dtype=tf.resource, name=None)\n",
            "  139893887584384: TensorSpec(shape=(), dtype=tf.resource, name=None)\n",
            "  139893887585440: TensorSpec(shape=(), dtype=tf.resource, name=None)\n",
            "  139893887599184: TensorSpec(shape=(), dtype=tf.resource, name=None)\n",
            "  139893887600240: TensorSpec(shape=(), dtype=tf.resource, name=None)\n",
            "  139893887601472: TensorSpec(shape=(), dtype=tf.resource, name=None)\n",
            "  139893887600768: TensorSpec(shape=(), dtype=tf.resource, name=None)\n",
            "  139893887602176: TensorSpec(shape=(), dtype=tf.resource, name=None)\n",
            "  139893887601648: TensorSpec(shape=(), dtype=tf.resource, name=None)\n",
            "  139893887601296: TensorSpec(shape=(), dtype=tf.resource, name=None)\n",
            "  139893887602352: TensorSpec(shape=(), dtype=tf.resource, name=None)\n",
            "  139893887599360: TensorSpec(shape=(), dtype=tf.resource, name=None)\n",
            "  139893887602000: TensorSpec(shape=(), dtype=tf.resource, name=None)\n",
            "  139893887616624: TensorSpec(shape=(), dtype=tf.resource, name=None)\n",
            "  139893887615744: TensorSpec(shape=(), dtype=tf.resource, name=None)\n",
            "  139893887617328: TensorSpec(shape=(), dtype=tf.resource, name=None)\n",
            "  139893887615216: TensorSpec(shape=(), dtype=tf.resource, name=None)\n",
            "  139893887618384: TensorSpec(shape=(), dtype=tf.resource, name=None)\n",
            "  139893887617680: TensorSpec(shape=(), dtype=tf.resource, name=None)\n",
            "  139893887617504: TensorSpec(shape=(), dtype=tf.resource, name=None)\n",
            "  139893887618560: TensorSpec(shape=(), dtype=tf.resource, name=None)\n",
            "  139893887616448: TensorSpec(shape=(), dtype=tf.resource, name=None)\n",
            "  139893887618032: TensorSpec(shape=(), dtype=tf.resource, name=None)\n",
            "  139893887618736: TensorSpec(shape=(), dtype=tf.resource, name=None)\n",
            "  139893887631952: TensorSpec(shape=(), dtype=tf.resource, name=None)\n",
            "  139893887633536: TensorSpec(shape=(), dtype=tf.resource, name=None)\n",
            "  139893887631600: TensorSpec(shape=(), dtype=tf.resource, name=None)\n",
            "  139893887634592: TensorSpec(shape=(), dtype=tf.resource, name=None)\n",
            "  139893887633888: TensorSpec(shape=(), dtype=tf.resource, name=None)\n",
            "  139893887633712: TensorSpec(shape=(), dtype=tf.resource, name=None)\n",
            "  139893887634768: TensorSpec(shape=(), dtype=tf.resource, name=None)\n",
            "  139893887632656: TensorSpec(shape=(), dtype=tf.resource, name=None)\n",
            "  139893887634944: TensorSpec(shape=(), dtype=tf.resource, name=None)\n",
            "  139893887634240: TensorSpec(shape=(), dtype=tf.resource, name=None)\n",
            "  139893887635120: TensorSpec(shape=(), dtype=tf.resource, name=None)\n",
            "  139893887644064: TensorSpec(shape=(), dtype=tf.resource, name=None)\n",
            "  139893887645120: TensorSpec(shape=(), dtype=tf.resource, name=None)\n",
            "  139893887646352: TensorSpec(shape=(), dtype=tf.resource, name=None)\n",
            "  139893887645648: TensorSpec(shape=(), dtype=tf.resource, name=None)\n",
            "  139893887647056: TensorSpec(shape=(), dtype=tf.resource, name=None)\n",
            "  139893887646176: TensorSpec(shape=(), dtype=tf.resource, name=None)\n",
            "  139893887644416: TensorSpec(shape=(), dtype=tf.resource, name=None)\n",
            "  139893887645296: TensorSpec(shape=(), dtype=tf.resource, name=None)\n",
            "  139893887645472: TensorSpec(shape=(), dtype=tf.resource, name=None)\n",
            "  139893887646528: TensorSpec(shape=(), dtype=tf.resource, name=None)\n",
            "  139893887148448: TensorSpec(shape=(), dtype=tf.resource, name=None)\n",
            "  139893887149328: TensorSpec(shape=(), dtype=tf.resource, name=None)\n",
            "  139893887150560: TensorSpec(shape=(), dtype=tf.resource, name=None)\n",
            "  139893887149856: TensorSpec(shape=(), dtype=tf.resource, name=None)\n",
            "  139893887151264: TensorSpec(shape=(), dtype=tf.resource, name=None)\n",
            "  139893887150384: TensorSpec(shape=(), dtype=tf.resource, name=None)\n",
            "  139893887151968: TensorSpec(shape=(), dtype=tf.resource, name=None)\n",
            "  139893887149680: TensorSpec(shape=(), dtype=tf.resource, name=None)\n",
            "  139893887151088: TensorSpec(shape=(), dtype=tf.resource, name=None)\n",
            "  139893887149504: TensorSpec(shape=(), dtype=tf.resource, name=None)\n",
            "  139893887149152: TensorSpec(shape=(), dtype=tf.resource, name=None)\n",
            "  139893887157344: TensorSpec(shape=(), dtype=tf.resource, name=None)\n",
            "  139893887158576: TensorSpec(shape=(), dtype=tf.resource, name=None)\n",
            "  139893887157872: TensorSpec(shape=(), dtype=tf.resource, name=None)\n",
            "  139893887159280: TensorSpec(shape=(), dtype=tf.resource, name=None)\n",
            "  139893887158752: TensorSpec(shape=(), dtype=tf.resource, name=None)\n",
            "  139893887158400: TensorSpec(shape=(), dtype=tf.resource, name=None)\n",
            "  139893887159456: TensorSpec(shape=(), dtype=tf.resource, name=None)\n",
            "  139893887157168: TensorSpec(shape=(), dtype=tf.resource, name=None)\n"
          ]
        }
      ],
      "source": [
        "#save the model architecture\n",
        "transformer.export(filepath=f'{model_dir}/saved_keras')"
      ]
    },
    {
      "cell_type": "code",
      "execution_count": 77,
      "metadata": {
        "id": "dXx0xn2QQKKI"
      },
      "outputs": [],
      "source": [
        "#load the best weights\n",
        "if (save_weights_only == True and save_best_only == True):\n",
        "  transformer.load_weights(checkpoint_filepath)"
      ]
    },
    {
      "cell_type": "code",
      "execution_count": 78,
      "metadata": {
        "id": "oBsYdivTQNCJ"
      },
      "outputs": [],
      "source": [
        "class Translator(tf.Module):\n",
        "  def __init__(self, context_tokenizers, target_tokenizers, transformer):\n",
        "    self.context_tokenizers = context_tokenizers\n",
        "    self.target_tokenizers = target_tokenizers\n",
        "    self.transformer = transformer\n",
        "\n",
        "  def __call__(self, sentence, max_length=MAX_TOKENS): #max_length=MAX_TOKENS\n",
        "    # The input sentence is Portuguese, hence adding the `[START]` and `[END]` tokens.\n",
        "    assert isinstance(sentence, tf.Tensor)\n",
        "    if len(sentence.shape) == 0:\n",
        "      sentence = sentence[tf.newaxis]\n",
        "\n",
        "    sentence = tokenize(sentence,self.context_tokenizers).to_tensor()\n",
        "\n",
        "    encoder_input = sentence\n",
        "\n",
        "    # As the output language is English, initialize the output with the\n",
        "    # English `[START]` token.\n",
        "\n",
        "    start_end = tokenize('',self.target_tokenizers)[0]\n",
        "    start = start_end[0][tf.newaxis]\n",
        "    end = start_end[-1][tf.newaxis]\n",
        "\n",
        "    # `tf.TensorArray` is required here (instead of a Python list), so that the\n",
        "    # dynamic-loop can be traced by `tf.function`.\n",
        "    output_array = tf.TensorArray(dtype=tf.int64, size=0, dynamic_size=True)\n",
        "    output_array = output_array.write(0, start)\n",
        "\n",
        "    for i in tf.range(max_length):\n",
        "      output = tf.transpose(output_array.stack())\n",
        "      predictions = self.transformer([encoder_input, output], training=False)\n",
        "\n",
        "      # Select the last token from the `seq_len` dimension.\n",
        "      predictions = predictions[:, -1:, :]  # Shape `(batch_size, 1, vocab_size)`.\n",
        "\n",
        "      predicted_id = tf.argmax(predictions, axis=-1)\n",
        "\n",
        "      # Concatenate the `predicted_id` to the output which is given to the\n",
        "      # decoder as its input.\n",
        "      output_array = output_array.write(i+1, predicted_id[0])\n",
        "\n",
        "      if predicted_id == end:\n",
        "        break\n",
        "\n",
        "    output = tf.transpose(output_array.stack())\n",
        "    # The output shape is `(1, tokens)`.\n",
        "\n",
        "    text = self.target_tokenizers.detokenize(output)\n",
        "\n",
        "    tokens = tf.gather(target_vocab, output)\n",
        "\n",
        "    # `tf.function` prevents us from using the attention_weights that were\n",
        "    # calculated on the last iteration of the loop.\n",
        "    # So, recalculate them outside the loop.\n",
        "    self.transformer([encoder_input, output[:,:-1]], training=False)\n",
        "    attention_weights = self.transformer.decoder.last_attn_scores\n",
        "\n",
        "    joined_text = tf.strings.reduce_join(text[0][1:-1], separator=' ', axis=-1)\n",
        "    return joined_text, tokens, attention_weights\n"
      ]
    },
    {
      "cell_type": "code",
      "execution_count": 79,
      "metadata": {
        "id": "04loWxsAQYox"
      },
      "outputs": [
        {
          "name": "stdout",
          "output_type": "stream",
          "text": [
            "Translator object created!\n"
          ]
        }
      ],
      "source": [
        "translator = Translator(context_tokenizer, target_tokenizer, transformer)\n",
        "print(\"Translator object created!\")"
      ]
    },
    {
      "cell_type": "code",
      "execution_count": 80,
      "metadata": {
        "id": "HOS-oH9NQZQ8"
      },
      "outputs": [
        {
          "name": "stdout",
          "output_type": "stream",
          "text": [
            "Building the ExportTranslator class...\n"
          ]
        }
      ],
      "source": [
        "\n",
        "print(\"Building the ExportTranslator class...\")\n",
        "\n",
        "class ExportTranslator(tf.Module):\n",
        "  def __init__(self, translator):\n",
        "    self.translator = translator\n",
        "\n",
        "  @tf.function(input_signature=[tf.TensorSpec(shape=[], dtype=tf.string)])\n",
        "  def __call__(self, sentence):\n",
        "    (result,\n",
        "     tokens,\n",
        "     attention_weights) = self.translator(sentence, max_length=MAX_TOKENS)\n",
        "\n",
        "    return result"
      ]
    },
    {
      "cell_type": "code",
      "execution_count": 81,
      "metadata": {
        "id": "VSzPnvC9QgIc"
      },
      "outputs": [
        {
          "name": "stdout",
          "output_type": "stream",
          "text": [
            "\n",
            "Testing inputs (test)....\n",
            "Input: Generate a creative birthday wish for a friend.\n",
            "Expected: इश्टा खातीर सर्जनशील वाडदिसाची इत्सा निर्माण करात.\n"
          ]
        },
        {
          "name": "stderr",
          "output_type": "stream",
          "text": [
            "/home/sohum12/miniconda3/envs/tf/lib/python3.9/site-packages/keras/src/layers/layer.py:938: UserWarning: Layer 'global_self_attention_8' (of type GlobalSelfAttention) was passed an input with a mask attached to it. However, this layer does not support masking and will therefore destroy the mask information. Downstream layers will not see the mask.\n",
            "  warnings.warn(\n",
            "/home/sohum12/miniconda3/envs/tf/lib/python3.9/site-packages/keras/src/layers/layer.py:938: UserWarning: Layer 'encoder_layer_7' (of type EncoderLayer) was passed an input with a mask attached to it. However, this layer does not support masking and will therefore destroy the mask information. Downstream layers will not see the mask.\n",
            "  warnings.warn(\n",
            "/home/sohum12/miniconda3/envs/tf/lib/python3.9/site-packages/keras/src/layers/layer.py:938: UserWarning: Layer 'causal_self_attention_8' (of type CausalSelfAttention) was passed an input with a mask attached to it. However, this layer does not support masking and will therefore destroy the mask information. Downstream layers will not see the mask.\n",
            "  warnings.warn(\n",
            "/home/sohum12/miniconda3/envs/tf/lib/python3.9/site-packages/keras/src/layers/layer.py:938: UserWarning: Layer 'decoder_layer_7' (of type DecoderLayer) was passed an input with a mask attached to it. However, this layer does not support masking and will therefore destroy the mask information. Downstream layers will not see the mask.\n",
            "  warnings.warn(\n"
          ]
        },
        {
          "name": "stdout",
          "output_type": "stream",
          "text": [
            "Output: इश्टा खातीर एक सर्जनशील वाडदिसाची इत्सा निर्माण करप . इश्टा खातीर एक सर्जनशील वाडदिसाची इत्सा तयार करप .\n",
            "\n",
            "Input: Compile a list of 5 US states located in the Mid West.\n",
            "Expected: मध्य अस्तंत वाठारांत आशिल्ल्या अमेरिकेच्या 5 राज्यांची वळेरी तयार करात.\n",
            "Output: मध्य अस्तंत वाठारांत आशिल्ल्या अमेरिकेच्या 5 अमेरिकेच्या राज्यांची वळेरी तयार करात .\n",
            "\n",
            "Input: Design a post for a social media account to promote the following product\n",
            "Expected: सकयल दिल्ल्या उत्पादनाचो प्रचार करपा खातीर सोशल मिडिया खात्या खातीर पोस्ट डिझायन कर\n",
            "Output: सकयल दिल्ल्या उत्पादनाक चालना दिवपा खातीर सोशल मिडिया खात्या खातीर पोस्ट तयार करात . सकयल दिल्ल्या उत्पादनाचो प्रचार करपा खातीर सोशल मिडिया खात्या खातीर पोस्ट तयार करात . सोशल मिडिया खात्या खातीर पोस्ट तयार करात , सोशल मिडिया खात्या खातीर पोस्ट तयार करात\n",
            "\n",
            "Input: Describe the sound of the given object.\n",
            "Expected: दिल्ल्या वस्तूच्या आवाजाचें वर्णन करप.\n",
            "Output: दिल्ल्या वस्तूच्या आवाजाचें वर्णन दिल्ल्या वस्तूचें वर्णन करप .\n",
            "\n",
            "Input: Generate a pitch for a new and original product.\n",
            "Expected: नव्या आनी मूळ उत्पादना खातीर पिच तयार करप.\n",
            "Output: नव्या आनी मूळ उत्पादना खातीर खेळपट्टी तयार करप . नव्या आनी मूळ उत्पादना खातीर पिच तयार करप .\n",
            "\n",
            "\n",
            "Testing inputs (train)....\n",
            "Input: Explain the concept of cogging torque.\n",
            "Expected: कॉगिंग टॉर्क ही संकल्पना स्पश्ट करात.\n",
            "Output: ध्वनी टॉर्काची शिकपाची संद शिकोवप ही संकल्पना स्पश्ट करात .\n",
            "\n",
            "Input: Look up the boiling point of water.\n",
            "Expected: उदकाच्या उकत्या बिंदूचेर नदर मारची.\n",
            "Output: उदकाचो उकळपाचो बिंदू पळयल्यार उदकाचो उकळपाचो बिंदू पळयात .\n",
            "\n",
            "Input: Identify the lines of longitude that divides North and South America.\n",
            "Expected: उत्तर आनी दक्षिण अमेरिकेंत फूट घालपी रेखांशाच्यो रेशा सोदून काडप.\n",
            "Output: उत्तर आनी दक्षिण अमेरिकेंत फूट घालपी रेखांशाच्यो रेशा उत्तर आनी दक्षिण अमेरिकेंत फूट घालपी रेखांशाच्यो रेशा सोदून काडप .\n",
            "\n",
            "Input: Explain the process of cellular respiration in plants.\n",
            "Expected: वनस्पतींतल्या पेशीय श्वसनाची प्रक्रिया स्पश्ट करप.\n",
            "Output: वनस्पतींतल्या पेशीय श्वसनाची प्रक्रिया वनस्पतींच्या पेशींतल्या श्वसनांतली प्रक्रिया स्पश्ट करप . वनस्पतींतल्या पेशीय श्वसनाची प्रक्रिया स्पश्ट करप .\n",
            "\n",
            "Input: Outline the consequences of deforestation.\n",
            "Expected: रानां काडपाच्या परिणामांची रूपरेषा तयार करात.\n",
            "Output: रानां कापिल्ल्यान रानां कापिल्ल्यान जावपी परिणामांची रुपरेषा तयार करची . रानां कापिल्ल्यान परिणाम हांचो आराखडो तयार करचो .\n",
            "\n"
          ]
        }
      ],
      "source": [
        "exp_translator = ExportTranslator(translator)\n",
        "\n",
        "print(\"\\nTesting inputs (test)....\")\n",
        "\n",
        "for i in range(10,15):\n",
        "  print(\"Input:\",context_test[i])\n",
        "  print(\"Expected:\",target_test[i])\n",
        "  print(\"Output:\",exp_translator(context_test[i]).numpy().decode())\n",
        "  print()\n",
        "\n",
        "print(\"\\nTesting inputs (train)....\")\n",
        "\n",
        "for i in range(10,15):\n",
        "  print(\"Input:\",context_train[i])\n",
        "  print(\"Expected:\",target_train[i])\n",
        "  print(\"Output:\",exp_translator(context_train[i]).numpy().decode())\n",
        "  print()"
      ]
    },
    {
      "cell_type": "code",
      "execution_count": 82,
      "metadata": {
        "id": "THlPV9tYQkbu"
      },
      "outputs": [],
      "source": [
        "def calc_bleu_score(context_test,target_test):\n",
        "    # Calculate the BLEU score\n",
        "    references = []\n",
        "    translations = []\n",
        "    count=1\n",
        "\n",
        "    final_test = context_test\n",
        "\n",
        "    print(\"Translatating ...\")\n",
        "\n",
        "    for chunk in final_test:\n",
        "      predicted_translation = exp_translator(chunk)\n",
        "      #print(count)\n",
        "      count+=1\n",
        "      translations.append(predicted_translation.numpy().decode().split())\n",
        "\n",
        "    for t in target_test:\n",
        "      references.append([t.split()])\n",
        "\n",
        "    print(\"\\nTranslations completed! working on blue scores ...\")\n",
        "\n",
        "    # Calculate the BLEU score\n",
        "    bleu4_score = bleu.corpus_bleu(references, translations)\n",
        "    bleu3_score = bleu.corpus_bleu(references, translations,weights=(0.33, 0.33, 0.33, 0))\n",
        "    bleu2_score = bleu.corpus_bleu(references, translations,weights=(0.5, 0.5, 0, 0))\n",
        "    bleu_score = bleu.corpus_bleu(references, translations,weights=(1, 0, 0, 0))\n",
        "\n",
        "    return bleu_score,bleu2_score,bleu3_score,bleu4_score"
      ]
    },
    {
      "cell_type": "code",
      "execution_count": 83,
      "metadata": {},
      "outputs": [
        {
          "name": "stdout",
          "output_type": "stream",
          "text": [
            "\n",
            "Calculating bleu score...\n",
            "Translatating ...\n",
            "\n",
            "Translations completed! working on blue scores ...\n",
            "Bleu1 score: 0.21133930627669792\n",
            "Bleu2 score: 0.14682896028272724\n",
            "Bleu3 score: 0.11053620548018843\n",
            "Bleu4 score: 0.08323015794547889\n",
            "\n",
            "Execution finished!\n"
          ]
        }
      ],
      "source": [
        "context_bleu,target_bleu = shuffle_corpus(context_test,target_test)\n",
        "\n",
        "#calculate blue score on test data\n",
        "print(\"\\nCalculating bleu score...\")\n",
        "bleu_score,bleu2_score,bleu3_score,bleu4_score = calc_bleu_score(context_bleu[:3000],target_bleu[:3000])\n",
        "print(\"Bleu1 score:\",bleu_score)\n",
        "print(\"Bleu2 score:\",bleu2_score)\n",
        "print(\"Bleu3 score:\",bleu3_score)\n",
        "print(\"Bleu4 score:\",bleu4_score)\n",
        "\n",
        "import datetime\n",
        "current_time = datetime.datetime.now()\n",
        "\n",
        "#write result to file\n",
        "with open(f\"{model_dir}/bleu_score.txt\",'w') as eval_file:\n",
        "  eval_file.write(f\"Time:{current_time}\\n\")\n",
        "  eval_file.write(f\"BLEU1 SCORE: {bleu_score}\\n\")\n",
        "  eval_file.write(f\"BLEU2 SCORE: {bleu2_score}\\n\")\n",
        "  eval_file.write(f\"BLEU3 SCORE: {bleu3_score}\\n\")\n",
        "  eval_file.write(f\"BLEU4 SCORE: {bleu4_score}\\n\\n\")\n",
        "\n",
        "print(\"\\nExecution finished!\")"
      ]
    }
  ],
  "metadata": {
    "colab": {
      "provenance": []
    },
    "kernelspec": {
      "display_name": "tf",
      "language": "python",
      "name": "python3"
    },
    "language_info": {
      "codemirror_mode": {
        "name": "ipython",
        "version": 3
      },
      "file_extension": ".py",
      "mimetype": "text/x-python",
      "name": "python",
      "nbconvert_exporter": "python",
      "pygments_lexer": "ipython3",
      "version": "3.9.21"
    }
  },
  "nbformat": 4,
  "nbformat_minor": 0
}
